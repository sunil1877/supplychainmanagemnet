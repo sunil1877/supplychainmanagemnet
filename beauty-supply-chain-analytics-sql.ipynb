{
 "cells": [
  {
   "cell_type": "code",
   "execution_count": 1,
   "id": "3c3b306f",
   "metadata": {
    "_cell_guid": "b1076dfc-b9ad-4769-8c92-a6c4dae69d19",
    "_uuid": "8f2839f25d086af736a60e9eeb907d3b93b6e0e5",
    "execution": {
     "iopub.execute_input": "2024-08-12T13:25:25.959560Z",
     "iopub.status.busy": "2024-08-12T13:25:25.959073Z",
     "iopub.status.idle": "2024-08-12T13:25:26.998256Z",
     "shell.execute_reply": "2024-08-12T13:25:26.996472Z"
    },
    "papermill": {
     "duration": 1.063089,
     "end_time": "2024-08-12T13:25:27.001498",
     "exception": false,
     "start_time": "2024-08-12T13:25:25.938409",
     "status": "completed"
    },
    "tags": []
   },
   "outputs": [
    {
     "name": "stdout",
     "output_type": "stream",
     "text": [
      "/kaggle/input/supply-chain-dataset/supply_chain_data.csv\n"
     ]
    }
   ],
   "source": [
    "# This Python 3 environment comes with many helpful analytics libraries installed\n",
    "# It is defined by the kaggle/python Docker image: https://github.com/kaggle/docker-python\n",
    "# For example, here's several helpful packages to load\n",
    "\n",
    "import numpy as np # linear algebra\n",
    "import pandas as pd # data processing, CSV file I/O (e.g. pd.read_csv)\n",
    "\n",
    "# Input data files are available in the read-only \"../input/\" directory\n",
    "# For example, running this (by clicking run or pressing Shift+Enter) will list all files under the input directory\n",
    "\n",
    "import os\n",
    "for dirname, _, filenames in os.walk('/kaggle/input'):\n",
    "    for filename in filenames:\n",
    "        print(os.path.join(dirname, filename))\n",
    "\n",
    "# You can write up to 20GB to the current directory (/kaggle/working/) that gets preserved as output when you create a version using \"Save & Run All\" \n",
    "# You can also write temporary files to /kaggle/temp/, but they won't be saved outside of the current session"
   ]
  },
  {
   "cell_type": "markdown",
   "id": "726203f9",
   "metadata": {
    "papermill": {
     "duration": 0.017952,
     "end_time": "2024-08-12T13:25:27.038263",
     "exception": false,
     "start_time": "2024-08-12T13:25:27.020311",
     "status": "completed"
    },
    "tags": []
   },
   "source": [
    "- <a href='#1'>1. Introduction </a>\n",
    "    - <a href='#1.1'>1.1 Objective</a>\n",
    "    - <a href='#1.2'>1.2 About the data </a>\n",
    "- <a href='#2'>2. Source and Clean data</a>\n",
    "    - <a href='#2.1'>2.1 Import Dependencies</a>\n",
    "    - <a href='#2.2'>2.2 Load and Understand the data</a>\n",
    "    - <a href='#2.3'>2.3 Data Cleaning</a>\n",
    "        - <a href='#2.3.1'>2.3.1 Check for duplicates</a>\n",
    "        - <a href='#2.3.2'>2.3.2 Standardize Column Names</a>\n",
    "        - <a href='#2.3.2'>2.3.3 Rename Column Names</a>\n",
    "- <a href='#3'>3. SQL Data Exploration</a>\n",
    "    - <a href='#3.1'>3.1 Set up and connect to database</a>\n",
    "    - <a href='#3.2'>3.2 SQL Queries</a>\n",
    "        - <a href='#3.2.1'>3.2.1 Product Analysis</a>\n",
    "        - <a href='#3.2.2'>3.2.2 Procurement Analysis</a>\n",
    "        - <a href='#3.2.3'>3.2.3 Production Analysis</a>\n",
    "        - <a href='#3.2.3'>3.2.4 Logistic Analysis</a>"
   ]
  },
  {
   "cell_type": "markdown",
   "id": "06da4c56",
   "metadata": {
    "papermill": {
     "duration": 0.017679,
     "end_time": "2024-08-12T13:25:27.074273",
     "exception": false,
     "start_time": "2024-08-12T13:25:27.056594",
     "status": "completed"
    },
    "tags": []
   },
   "source": [
    "# <a id='1'>1. Introduction</a>"
   ]
  },
  {
   "cell_type": "markdown",
   "id": "97a59d40",
   "metadata": {
    "papermill": {
     "duration": 0.018972,
     "end_time": "2024-08-12T13:25:27.111010",
     "exception": false,
     "start_time": "2024-08-12T13:25:27.092038",
     "status": "completed"
    },
    "tags": []
   },
   "source": [
    "## <a id='1.1'>1.1 Objective</a>\n",
    "This project aims to leverage SQL to analyze a comprehensive dataset encompassing various aspects of a supply chain for a product line consisting of skincare, haircare, and cosmetics. By examining key metrics and identifying trends, we will gain valuable insights into optimizing inventory management, procurement processes, and overall supply chain efficiency."
   ]
  },
  {
   "cell_type": "markdown",
   "id": "f5252668",
   "metadata": {
    "papermill": {
     "duration": 0.017615,
     "end_time": "2024-08-12T13:25:27.147415",
     "exception": false,
     "start_time": "2024-08-12T13:25:27.129800",
     "status": "completed"
    },
    "tags": []
   },
   "source": [
    "## <a id='1.2'>1.2 About the data</a>\n",
    "\n",
    "The dataset has the following columns:\n",
    "\n",
    "* **Product type**: The type of product. Options: skincare, haircare, or cosmetics.\n",
    "* **SKU**: Unique alphanumeric identifiers for each product.\n",
    "* **Price**: The selling price of each product.\n",
    "* **Availability**: The quantity of each product that is available for sale.\n",
    "* **Number of products sold**: The quantity of products sold.\n",
    "* **Revenue generated**: The revenue generated by each product.\n",
    "* **Customer demographics**: Information about customer demographics. Options: Female, Male, Non-binary, or Unknown.\n",
    "* **Stock levels**: Number of units physically present in the store. Availability can be more than stock levels if additional units are on order or in transit, making them ready for sale but not yet physically present in the inventory.\n",
    "* **Lead times/ Business lead time**: The time taken to replenish stock, measured in days. Includes shipping time.\n",
    "* **Order quantities**: The amount of items ordered.\n",
    "* **Shipping times**: The time required for shipping to the business.\n",
    "* **Shipping carriers**: The different carriers used by the business for collections. Options: Carrier A, Carrier B, or Carrier C.\n",
    "* **Shipping costs**: The costs of shipping what the business ordered. These include packaging, handling, and delivery charges.\n",
    "* **Supplier name**: The names of different suppliers.\n",
    "* **Location**: The locations of the suppliers. Options: Mumbai, Kolkata, Delhi, Bangalore, or Chennai.\n",
    "* **Lead time/ Supplier lead time**: The time taken for the supplier to replenish stock, measured in days.\n",
    "* **Production volumes**: The amount of items produced by each supplier.\n",
    "* **Manufacturing lead time**: The time required for manufacturing by each supplier.\n",
    "* **Manufacturing costs**: The costs associated with manufacturing.\n",
    "* **Inspection results**: The outcome of product inspections. Options: Pending, Fail, or Pass.\n",
    "* **Defect rates**: The percentage of defects found in the products.\n",
    "* **Transportation modes**: The method used by the supplier to deliver goods to the business. Options: Road, Air, Rail, or Sea.\n",
    "* **Routes**: The route used by the supplier for shipment.Options: Route B, Route C or Route A\n",
    "* **Costs / transportation cost**: The costs associated with transport. These can include fuel, vehicle maintenance, driver wages, tolls, and insurance."
   ]
  },
  {
   "cell_type": "markdown",
   "id": "2f944d8f",
   "metadata": {
    "papermill": {
     "duration": 0.017583,
     "end_time": "2024-08-12T13:25:27.183655",
     "exception": false,
     "start_time": "2024-08-12T13:25:27.166072",
     "status": "completed"
    },
    "tags": []
   },
   "source": [
    "# <a id='2'>2. Source and Clean the data</a>"
   ]
  },
  {
   "cell_type": "markdown",
   "id": "1f2e2221",
   "metadata": {
    "papermill": {
     "duration": 0.017634,
     "end_time": "2024-08-12T13:25:27.219372",
     "exception": false,
     "start_time": "2024-08-12T13:25:27.201738",
     "status": "completed"
    },
    "tags": []
   },
   "source": [
    "## <a id='2.1'>2.1 Import Dependencies</a>"
   ]
  },
  {
   "cell_type": "code",
   "execution_count": 2,
   "id": "aa94d7e6",
   "metadata": {
    "execution": {
     "iopub.execute_input": "2024-08-12T13:25:27.257915Z",
     "iopub.status.busy": "2024-08-12T13:25:27.257347Z",
     "iopub.status.idle": "2024-08-12T13:25:28.000385Z",
     "shell.execute_reply": "2024-08-12T13:25:27.998809Z"
    },
    "papermill": {
     "duration": 0.766249,
     "end_time": "2024-08-12T13:25:28.003504",
     "exception": false,
     "start_time": "2024-08-12T13:25:27.237255",
     "status": "completed"
    },
    "tags": []
   },
   "outputs": [],
   "source": [
    "import pandas as pd\n",
    "from sqlalchemy import create_engine\n",
    "import sqlite3"
   ]
  },
  {
   "cell_type": "markdown",
   "id": "dd335943",
   "metadata": {
    "papermill": {
     "duration": 0.019401,
     "end_time": "2024-08-12T13:25:28.040851",
     "exception": false,
     "start_time": "2024-08-12T13:25:28.021450",
     "status": "completed"
    },
    "tags": []
   },
   "source": [
    "\n",
    "## <a id='2.2'>2.2 Load and Understand the data</a>"
   ]
  },
  {
   "cell_type": "code",
   "execution_count": 3,
   "id": "3ee332a8",
   "metadata": {
    "execution": {
     "iopub.execute_input": "2024-08-12T13:25:28.089031Z",
     "iopub.status.busy": "2024-08-12T13:25:28.088604Z",
     "iopub.status.idle": "2024-08-12T13:25:28.177106Z",
     "shell.execute_reply": "2024-08-12T13:25:28.175879Z"
    },
    "papermill": {
     "duration": 0.115349,
     "end_time": "2024-08-12T13:25:28.180069",
     "exception": false,
     "start_time": "2024-08-12T13:25:28.064720",
     "status": "completed"
    },
    "tags": []
   },
   "outputs": [
    {
     "data": {
      "text/html": [
       "<div>\n",
       "<style scoped>\n",
       "    .dataframe tbody tr th:only-of-type {\n",
       "        vertical-align: middle;\n",
       "    }\n",
       "\n",
       "    .dataframe tbody tr th {\n",
       "        vertical-align: top;\n",
       "    }\n",
       "\n",
       "    .dataframe thead th {\n",
       "        text-align: right;\n",
       "    }\n",
       "</style>\n",
       "<table border=\"1\" class=\"dataframe\">\n",
       "  <thead>\n",
       "    <tr style=\"text-align: right;\">\n",
       "      <th></th>\n",
       "      <th>Product type</th>\n",
       "      <th>SKU</th>\n",
       "      <th>Price</th>\n",
       "      <th>Availability</th>\n",
       "      <th>Number of products sold</th>\n",
       "      <th>Revenue generated</th>\n",
       "      <th>Customer demographics</th>\n",
       "      <th>Stock levels</th>\n",
       "      <th>Lead times</th>\n",
       "      <th>Order quantities</th>\n",
       "      <th>...</th>\n",
       "      <th>Location</th>\n",
       "      <th>Lead time</th>\n",
       "      <th>Production volumes</th>\n",
       "      <th>Manufacturing lead time</th>\n",
       "      <th>Manufacturing costs</th>\n",
       "      <th>Inspection results</th>\n",
       "      <th>Defect rates</th>\n",
       "      <th>Transportation modes</th>\n",
       "      <th>Routes</th>\n",
       "      <th>Costs</th>\n",
       "    </tr>\n",
       "  </thead>\n",
       "  <tbody>\n",
       "    <tr>\n",
       "      <th>0</th>\n",
       "      <td>haircare</td>\n",
       "      <td>SKU0</td>\n",
       "      <td>69.808006</td>\n",
       "      <td>55</td>\n",
       "      <td>802</td>\n",
       "      <td>8661.996792</td>\n",
       "      <td>Non-binary</td>\n",
       "      <td>58</td>\n",
       "      <td>7</td>\n",
       "      <td>96</td>\n",
       "      <td>...</td>\n",
       "      <td>Mumbai</td>\n",
       "      <td>29</td>\n",
       "      <td>215</td>\n",
       "      <td>29</td>\n",
       "      <td>46.279879</td>\n",
       "      <td>Pending</td>\n",
       "      <td>0.226410</td>\n",
       "      <td>Road</td>\n",
       "      <td>Route B</td>\n",
       "      <td>187.752075</td>\n",
       "    </tr>\n",
       "    <tr>\n",
       "      <th>1</th>\n",
       "      <td>skincare</td>\n",
       "      <td>SKU1</td>\n",
       "      <td>14.843523</td>\n",
       "      <td>95</td>\n",
       "      <td>736</td>\n",
       "      <td>7460.900065</td>\n",
       "      <td>Female</td>\n",
       "      <td>53</td>\n",
       "      <td>30</td>\n",
       "      <td>37</td>\n",
       "      <td>...</td>\n",
       "      <td>Mumbai</td>\n",
       "      <td>23</td>\n",
       "      <td>517</td>\n",
       "      <td>30</td>\n",
       "      <td>33.616769</td>\n",
       "      <td>Pending</td>\n",
       "      <td>4.854068</td>\n",
       "      <td>Road</td>\n",
       "      <td>Route B</td>\n",
       "      <td>503.065579</td>\n",
       "    </tr>\n",
       "    <tr>\n",
       "      <th>2</th>\n",
       "      <td>haircare</td>\n",
       "      <td>SKU2</td>\n",
       "      <td>11.319683</td>\n",
       "      <td>34</td>\n",
       "      <td>8</td>\n",
       "      <td>9577.749626</td>\n",
       "      <td>Unknown</td>\n",
       "      <td>1</td>\n",
       "      <td>10</td>\n",
       "      <td>88</td>\n",
       "      <td>...</td>\n",
       "      <td>Mumbai</td>\n",
       "      <td>12</td>\n",
       "      <td>971</td>\n",
       "      <td>27</td>\n",
       "      <td>30.688019</td>\n",
       "      <td>Pending</td>\n",
       "      <td>4.580593</td>\n",
       "      <td>Air</td>\n",
       "      <td>Route C</td>\n",
       "      <td>141.920282</td>\n",
       "    </tr>\n",
       "    <tr>\n",
       "      <th>3</th>\n",
       "      <td>skincare</td>\n",
       "      <td>SKU3</td>\n",
       "      <td>61.163343</td>\n",
       "      <td>68</td>\n",
       "      <td>83</td>\n",
       "      <td>7766.836426</td>\n",
       "      <td>Non-binary</td>\n",
       "      <td>23</td>\n",
       "      <td>13</td>\n",
       "      <td>59</td>\n",
       "      <td>...</td>\n",
       "      <td>Kolkata</td>\n",
       "      <td>24</td>\n",
       "      <td>937</td>\n",
       "      <td>18</td>\n",
       "      <td>35.624741</td>\n",
       "      <td>Fail</td>\n",
       "      <td>4.746649</td>\n",
       "      <td>Rail</td>\n",
       "      <td>Route A</td>\n",
       "      <td>254.776159</td>\n",
       "    </tr>\n",
       "    <tr>\n",
       "      <th>4</th>\n",
       "      <td>skincare</td>\n",
       "      <td>SKU4</td>\n",
       "      <td>4.805496</td>\n",
       "      <td>26</td>\n",
       "      <td>871</td>\n",
       "      <td>2686.505152</td>\n",
       "      <td>Non-binary</td>\n",
       "      <td>5</td>\n",
       "      <td>3</td>\n",
       "      <td>56</td>\n",
       "      <td>...</td>\n",
       "      <td>Delhi</td>\n",
       "      <td>5</td>\n",
       "      <td>414</td>\n",
       "      <td>3</td>\n",
       "      <td>92.065161</td>\n",
       "      <td>Fail</td>\n",
       "      <td>3.145580</td>\n",
       "      <td>Air</td>\n",
       "      <td>Route A</td>\n",
       "      <td>923.440632</td>\n",
       "    </tr>\n",
       "    <tr>\n",
       "      <th>...</th>\n",
       "      <td>...</td>\n",
       "      <td>...</td>\n",
       "      <td>...</td>\n",
       "      <td>...</td>\n",
       "      <td>...</td>\n",
       "      <td>...</td>\n",
       "      <td>...</td>\n",
       "      <td>...</td>\n",
       "      <td>...</td>\n",
       "      <td>...</td>\n",
       "      <td>...</td>\n",
       "      <td>...</td>\n",
       "      <td>...</td>\n",
       "      <td>...</td>\n",
       "      <td>...</td>\n",
       "      <td>...</td>\n",
       "      <td>...</td>\n",
       "      <td>...</td>\n",
       "      <td>...</td>\n",
       "      <td>...</td>\n",
       "      <td>...</td>\n",
       "    </tr>\n",
       "    <tr>\n",
       "      <th>95</th>\n",
       "      <td>haircare</td>\n",
       "      <td>SKU95</td>\n",
       "      <td>77.903927</td>\n",
       "      <td>65</td>\n",
       "      <td>672</td>\n",
       "      <td>7386.363944</td>\n",
       "      <td>Unknown</td>\n",
       "      <td>15</td>\n",
       "      <td>14</td>\n",
       "      <td>26</td>\n",
       "      <td>...</td>\n",
       "      <td>Mumbai</td>\n",
       "      <td>18</td>\n",
       "      <td>450</td>\n",
       "      <td>26</td>\n",
       "      <td>58.890686</td>\n",
       "      <td>Pending</td>\n",
       "      <td>1.210882</td>\n",
       "      <td>Air</td>\n",
       "      <td>Route A</td>\n",
       "      <td>778.864241</td>\n",
       "    </tr>\n",
       "    <tr>\n",
       "      <th>96</th>\n",
       "      <td>cosmetics</td>\n",
       "      <td>SKU96</td>\n",
       "      <td>24.423131</td>\n",
       "      <td>29</td>\n",
       "      <td>324</td>\n",
       "      <td>7698.424766</td>\n",
       "      <td>Non-binary</td>\n",
       "      <td>67</td>\n",
       "      <td>2</td>\n",
       "      <td>32</td>\n",
       "      <td>...</td>\n",
       "      <td>Mumbai</td>\n",
       "      <td>28</td>\n",
       "      <td>648</td>\n",
       "      <td>28</td>\n",
       "      <td>17.803756</td>\n",
       "      <td>Pending</td>\n",
       "      <td>3.872048</td>\n",
       "      <td>Road</td>\n",
       "      <td>Route A</td>\n",
       "      <td>188.742141</td>\n",
       "    </tr>\n",
       "    <tr>\n",
       "      <th>97</th>\n",
       "      <td>haircare</td>\n",
       "      <td>SKU97</td>\n",
       "      <td>3.526111</td>\n",
       "      <td>56</td>\n",
       "      <td>62</td>\n",
       "      <td>4370.916580</td>\n",
       "      <td>Male</td>\n",
       "      <td>46</td>\n",
       "      <td>19</td>\n",
       "      <td>4</td>\n",
       "      <td>...</td>\n",
       "      <td>Mumbai</td>\n",
       "      <td>10</td>\n",
       "      <td>535</td>\n",
       "      <td>13</td>\n",
       "      <td>65.765156</td>\n",
       "      <td>Fail</td>\n",
       "      <td>3.376238</td>\n",
       "      <td>Road</td>\n",
       "      <td>Route A</td>\n",
       "      <td>540.132423</td>\n",
       "    </tr>\n",
       "    <tr>\n",
       "      <th>98</th>\n",
       "      <td>skincare</td>\n",
       "      <td>SKU98</td>\n",
       "      <td>19.754605</td>\n",
       "      <td>43</td>\n",
       "      <td>913</td>\n",
       "      <td>8525.952560</td>\n",
       "      <td>Female</td>\n",
       "      <td>53</td>\n",
       "      <td>1</td>\n",
       "      <td>27</td>\n",
       "      <td>...</td>\n",
       "      <td>Chennai</td>\n",
       "      <td>28</td>\n",
       "      <td>581</td>\n",
       "      <td>9</td>\n",
       "      <td>5.604691</td>\n",
       "      <td>Pending</td>\n",
       "      <td>2.908122</td>\n",
       "      <td>Rail</td>\n",
       "      <td>Route A</td>\n",
       "      <td>882.198864</td>\n",
       "    </tr>\n",
       "    <tr>\n",
       "      <th>99</th>\n",
       "      <td>haircare</td>\n",
       "      <td>SKU99</td>\n",
       "      <td>68.517833</td>\n",
       "      <td>17</td>\n",
       "      <td>627</td>\n",
       "      <td>9185.185829</td>\n",
       "      <td>Unknown</td>\n",
       "      <td>55</td>\n",
       "      <td>8</td>\n",
       "      <td>59</td>\n",
       "      <td>...</td>\n",
       "      <td>Chennai</td>\n",
       "      <td>29</td>\n",
       "      <td>921</td>\n",
       "      <td>2</td>\n",
       "      <td>38.072899</td>\n",
       "      <td>Fail</td>\n",
       "      <td>0.346027</td>\n",
       "      <td>Rail</td>\n",
       "      <td>Route B</td>\n",
       "      <td>210.743009</td>\n",
       "    </tr>\n",
       "  </tbody>\n",
       "</table>\n",
       "<p>100 rows × 24 columns</p>\n",
       "</div>"
      ],
      "text/plain": [
       "   Product type    SKU      Price  Availability  Number of products sold  \\\n",
       "0      haircare   SKU0  69.808006            55                      802   \n",
       "1      skincare   SKU1  14.843523            95                      736   \n",
       "2      haircare   SKU2  11.319683            34                        8   \n",
       "3      skincare   SKU3  61.163343            68                       83   \n",
       "4      skincare   SKU4   4.805496            26                      871   \n",
       "..          ...    ...        ...           ...                      ...   \n",
       "95     haircare  SKU95  77.903927            65                      672   \n",
       "96    cosmetics  SKU96  24.423131            29                      324   \n",
       "97     haircare  SKU97   3.526111            56                       62   \n",
       "98     skincare  SKU98  19.754605            43                      913   \n",
       "99     haircare  SKU99  68.517833            17                      627   \n",
       "\n",
       "    Revenue generated Customer demographics  Stock levels  Lead times  \\\n",
       "0         8661.996792            Non-binary            58           7   \n",
       "1         7460.900065                Female            53          30   \n",
       "2         9577.749626               Unknown             1          10   \n",
       "3         7766.836426            Non-binary            23          13   \n",
       "4         2686.505152            Non-binary             5           3   \n",
       "..                ...                   ...           ...         ...   \n",
       "95        7386.363944               Unknown            15          14   \n",
       "96        7698.424766            Non-binary            67           2   \n",
       "97        4370.916580                  Male            46          19   \n",
       "98        8525.952560                Female            53           1   \n",
       "99        9185.185829               Unknown            55           8   \n",
       "\n",
       "    Order quantities  ...  Location Lead time  Production volumes  \\\n",
       "0                 96  ...    Mumbai        29                 215   \n",
       "1                 37  ...    Mumbai        23                 517   \n",
       "2                 88  ...    Mumbai        12                 971   \n",
       "3                 59  ...   Kolkata        24                 937   \n",
       "4                 56  ...     Delhi         5                 414   \n",
       "..               ...  ...       ...       ...                 ...   \n",
       "95                26  ...    Mumbai        18                 450   \n",
       "96                32  ...    Mumbai        28                 648   \n",
       "97                 4  ...    Mumbai        10                 535   \n",
       "98                27  ...   Chennai        28                 581   \n",
       "99                59  ...   Chennai        29                 921   \n",
       "\n",
       "   Manufacturing lead time Manufacturing costs  Inspection results  \\\n",
       "0                       29           46.279879             Pending   \n",
       "1                       30           33.616769             Pending   \n",
       "2                       27           30.688019             Pending   \n",
       "3                       18           35.624741                Fail   \n",
       "4                        3           92.065161                Fail   \n",
       "..                     ...                 ...                 ...   \n",
       "95                      26           58.890686             Pending   \n",
       "96                      28           17.803756             Pending   \n",
       "97                      13           65.765156                Fail   \n",
       "98                       9            5.604691             Pending   \n",
       "99                       2           38.072899                Fail   \n",
       "\n",
       "    Defect rates  Transportation modes   Routes       Costs  \n",
       "0       0.226410                  Road  Route B  187.752075  \n",
       "1       4.854068                  Road  Route B  503.065579  \n",
       "2       4.580593                   Air  Route C  141.920282  \n",
       "3       4.746649                  Rail  Route A  254.776159  \n",
       "4       3.145580                   Air  Route A  923.440632  \n",
       "..           ...                   ...      ...         ...  \n",
       "95      1.210882                   Air  Route A  778.864241  \n",
       "96      3.872048                  Road  Route A  188.742141  \n",
       "97      3.376238                  Road  Route A  540.132423  \n",
       "98      2.908122                  Rail  Route A  882.198864  \n",
       "99      0.346027                  Rail  Route B  210.743009  \n",
       "\n",
       "[100 rows x 24 columns]"
      ]
     },
     "execution_count": 3,
     "metadata": {},
     "output_type": "execute_result"
    }
   ],
   "source": [
    "df = pd.read_csv('/kaggle/input/supply-chain-dataset/supply_chain_data.csv')\n",
    "df"
   ]
  },
  {
   "cell_type": "code",
   "execution_count": 4,
   "id": "9440e8c9",
   "metadata": {
    "execution": {
     "iopub.execute_input": "2024-08-12T13:25:28.225223Z",
     "iopub.status.busy": "2024-08-12T13:25:28.224704Z",
     "iopub.status.idle": "2024-08-12T13:25:28.233206Z",
     "shell.execute_reply": "2024-08-12T13:25:28.231870Z"
    },
    "papermill": {
     "duration": 0.033665,
     "end_time": "2024-08-12T13:25:28.236025",
     "exception": false,
     "start_time": "2024-08-12T13:25:28.202360",
     "status": "completed"
    },
    "tags": []
   },
   "outputs": [
    {
     "data": {
      "text/plain": [
       "(100, 24)"
      ]
     },
     "execution_count": 4,
     "metadata": {},
     "output_type": "execute_result"
    }
   ],
   "source": [
    "df.shape"
   ]
  },
  {
   "cell_type": "code",
   "execution_count": 5,
   "id": "2529e945",
   "metadata": {
    "execution": {
     "iopub.execute_input": "2024-08-12T13:25:28.280112Z",
     "iopub.status.busy": "2024-08-12T13:25:28.279558Z",
     "iopub.status.idle": "2024-08-12T13:25:28.310791Z",
     "shell.execute_reply": "2024-08-12T13:25:28.309392Z"
    },
    "papermill": {
     "duration": 0.057141,
     "end_time": "2024-08-12T13:25:28.314674",
     "exception": false,
     "start_time": "2024-08-12T13:25:28.257533",
     "status": "completed"
    },
    "tags": []
   },
   "outputs": [
    {
     "name": "stdout",
     "output_type": "stream",
     "text": [
      "<class 'pandas.core.frame.DataFrame'>\n",
      "RangeIndex: 100 entries, 0 to 99\n",
      "Data columns (total 24 columns):\n",
      " #   Column                   Non-Null Count  Dtype  \n",
      "---  ------                   --------------  -----  \n",
      " 0   Product type             100 non-null    object \n",
      " 1   SKU                      100 non-null    object \n",
      " 2   Price                    100 non-null    float64\n",
      " 3   Availability             100 non-null    int64  \n",
      " 4   Number of products sold  100 non-null    int64  \n",
      " 5   Revenue generated        100 non-null    float64\n",
      " 6   Customer demographics    100 non-null    object \n",
      " 7   Stock levels             100 non-null    int64  \n",
      " 8   Lead times               100 non-null    int64  \n",
      " 9   Order quantities         100 non-null    int64  \n",
      " 10  Shipping times           100 non-null    int64  \n",
      " 11  Shipping carriers        100 non-null    object \n",
      " 12  Shipping costs           100 non-null    float64\n",
      " 13  Supplier name            100 non-null    object \n",
      " 14  Location                 100 non-null    object \n",
      " 15  Lead time                100 non-null    int64  \n",
      " 16  Production volumes       100 non-null    int64  \n",
      " 17  Manufacturing lead time  100 non-null    int64  \n",
      " 18  Manufacturing costs      100 non-null    float64\n",
      " 19  Inspection results       100 non-null    object \n",
      " 20  Defect rates             100 non-null    float64\n",
      " 21  Transportation modes     100 non-null    object \n",
      " 22  Routes                   100 non-null    object \n",
      " 23  Costs                    100 non-null    float64\n",
      "dtypes: float64(6), int64(9), object(9)\n",
      "memory usage: 18.9+ KB\n"
     ]
    }
   ],
   "source": [
    "df.info()"
   ]
  },
  {
   "cell_type": "markdown",
   "id": "0808a30d",
   "metadata": {
    "papermill": {
     "duration": 0.018848,
     "end_time": "2024-08-12T13:25:28.356188",
     "exception": false,
     "start_time": "2024-08-12T13:25:28.337340",
     "status": "completed"
    },
    "tags": []
   },
   "source": [
    "## <a id='2.3'>2.3 Data Cleaning</a>"
   ]
  },
  {
   "cell_type": "markdown",
   "id": "aebffe5d",
   "metadata": {
    "papermill": {
     "duration": 0.019082,
     "end_time": "2024-08-12T13:25:28.394244",
     "exception": false,
     "start_time": "2024-08-12T13:25:28.375162",
     "status": "completed"
    },
    "tags": []
   },
   "source": [
    "### <a id='2.3.1'>2.3.1 Check for duplicates</a>"
   ]
  },
  {
   "cell_type": "code",
   "execution_count": 6,
   "id": "b2fd7cb1",
   "metadata": {
    "execution": {
     "iopub.execute_input": "2024-08-12T13:25:28.433972Z",
     "iopub.status.busy": "2024-08-12T13:25:28.433558Z",
     "iopub.status.idle": "2024-08-12T13:25:28.446092Z",
     "shell.execute_reply": "2024-08-12T13:25:28.444844Z"
    },
    "papermill": {
     "duration": 0.035665,
     "end_time": "2024-08-12T13:25:28.448934",
     "exception": false,
     "start_time": "2024-08-12T13:25:28.413269",
     "status": "completed"
    },
    "tags": []
   },
   "outputs": [
    {
     "data": {
      "text/plain": [
       "False"
      ]
     },
     "execution_count": 6,
     "metadata": {},
     "output_type": "execute_result"
    }
   ],
   "source": [
    "df.duplicated().any()"
   ]
  },
  {
   "cell_type": "markdown",
   "id": "52055a29",
   "metadata": {
    "papermill": {
     "duration": 0.025585,
     "end_time": "2024-08-12T13:25:28.493876",
     "exception": false,
     "start_time": "2024-08-12T13:25:28.468291",
     "status": "completed"
    },
    "tags": []
   },
   "source": [
    "### <a id='2.3.2'>2.3.2 Standardize Column Names</a>"
   ]
  },
  {
   "cell_type": "code",
   "execution_count": 7,
   "id": "4f72bafb",
   "metadata": {
    "execution": {
     "iopub.execute_input": "2024-08-12T13:25:28.539183Z",
     "iopub.status.busy": "2024-08-12T13:25:28.538016Z",
     "iopub.status.idle": "2024-08-12T13:25:28.547726Z",
     "shell.execute_reply": "2024-08-12T13:25:28.546458Z"
    },
    "papermill": {
     "duration": 0.033025,
     "end_time": "2024-08-12T13:25:28.550313",
     "exception": false,
     "start_time": "2024-08-12T13:25:28.517288",
     "status": "completed"
    },
    "tags": []
   },
   "outputs": [
    {
     "data": {
      "text/plain": [
       "Index(['product_type', 'sku', 'price', 'availability',\n",
       "       'number_of_products_sold', 'revenue_generated', 'customer_demographics',\n",
       "       'stock_levels', 'lead_times', 'order_quantities', 'shipping_times',\n",
       "       'shipping_carriers', 'shipping_costs', 'supplier_name', 'location',\n",
       "       'lead_time', 'production_volumes', 'manufacturing_lead_time',\n",
       "       'manufacturing_costs', 'inspection_results', 'defect_rates',\n",
       "       'transportation_modes', 'routes', 'costs'],\n",
       "      dtype='object')"
      ]
     },
     "execution_count": 7,
     "metadata": {},
     "output_type": "execute_result"
    }
   ],
   "source": [
    "df.columns = df.columns.str.lower().str.replace(' ','_')\n",
    "df.columns"
   ]
  },
  {
   "cell_type": "markdown",
   "id": "ccc44c6c",
   "metadata": {
    "papermill": {
     "duration": 0.024725,
     "end_time": "2024-08-12T13:25:28.600190",
     "exception": false,
     "start_time": "2024-08-12T13:25:28.575465",
     "status": "completed"
    },
    "tags": []
   },
   "source": [
    "### <a id='2.3.3'>2.3.3 Rename Column Names</a>"
   ]
  },
  {
   "cell_type": "code",
   "execution_count": 8,
   "id": "7dcc50d7",
   "metadata": {
    "execution": {
     "iopub.execute_input": "2024-08-12T13:25:28.642229Z",
     "iopub.status.busy": "2024-08-12T13:25:28.641660Z",
     "iopub.status.idle": "2024-08-12T13:25:28.654524Z",
     "shell.execute_reply": "2024-08-12T13:25:28.653215Z"
    },
    "papermill": {
     "duration": 0.038654,
     "end_time": "2024-08-12T13:25:28.658179",
     "exception": false,
     "start_time": "2024-08-12T13:25:28.619525",
     "status": "completed"
    },
    "tags": []
   },
   "outputs": [
    {
     "data": {
      "text/plain": [
       "Index(['product_type', 'sku', 'price', 'availability',\n",
       "       'number_of_products_sold', 'revenue_generated', 'customer_demographics',\n",
       "       'stock_levels', 'business_lead_time', 'order_quantities',\n",
       "       'shipping_times', 'shipping_carriers', 'shipping_costs',\n",
       "       'supplier_name', 'location', 'supplier_lead_time', 'production_volumes',\n",
       "       'manufacturing_lead_time', 'manufacturing_costs', 'inspection_results',\n",
       "       'defect_rates', 'transportation_modes', 'routes',\n",
       "       'transportation_costs'],\n",
       "      dtype='object')"
      ]
     },
     "execution_count": 8,
     "metadata": {},
     "output_type": "execute_result"
    }
   ],
   "source": [
    "df = df.rename(columns={'lead_times': 'business_lead_time', 'lead_time':'supplier_lead_time', 'costs': 'transportation_costs'})\n",
    "df.columns"
   ]
  },
  {
   "cell_type": "markdown",
   "id": "f558b214",
   "metadata": {
    "papermill": {
     "duration": 0.020145,
     "end_time": "2024-08-12T13:25:28.702787",
     "exception": false,
     "start_time": "2024-08-12T13:25:28.682642",
     "status": "completed"
    },
    "tags": []
   },
   "source": [
    "# <a id='3'>3. SQL Data Exploration</a>"
   ]
  },
  {
   "cell_type": "markdown",
   "id": "60ec25e1",
   "metadata": {
    "papermill": {
     "duration": 0.019675,
     "end_time": "2024-08-12T13:25:28.742535",
     "exception": false,
     "start_time": "2024-08-12T13:25:28.722860",
     "status": "completed"
    },
    "tags": []
   },
   "source": [
    "\n",
    "## <a id='3.1'>3.1 Set up and connect to database</a>"
   ]
  },
  {
   "cell_type": "code",
   "execution_count": 9,
   "id": "fb28a855",
   "metadata": {
    "execution": {
     "iopub.execute_input": "2024-08-12T13:25:28.784042Z",
     "iopub.status.busy": "2024-08-12T13:25:28.783510Z",
     "iopub.status.idle": "2024-08-12T13:25:28.891115Z",
     "shell.execute_reply": "2024-08-12T13:25:28.889832Z"
    },
    "papermill": {
     "duration": 0.131801,
     "end_time": "2024-08-12T13:25:28.893959",
     "exception": false,
     "start_time": "2024-08-12T13:25:28.762158",
     "status": "completed"
    },
    "tags": []
   },
   "outputs": [
    {
     "data": {
      "text/plain": [
       "100"
      ]
     },
     "execution_count": 9,
     "metadata": {},
     "output_type": "execute_result"
    }
   ],
   "source": [
    "engine = create_engine('sqlite:///supply_chain_db')\n",
    "conn = engine.connect()\n",
    "\n",
    "# Write dataFrame to SQL database\n",
    "df.to_sql('chain', engine, if_exists='replace', index=False)"
   ]
  },
  {
   "cell_type": "code",
   "execution_count": 10,
   "id": "b76162d7",
   "metadata": {
    "execution": {
     "iopub.execute_input": "2024-08-12T13:25:29.001053Z",
     "iopub.status.busy": "2024-08-12T13:25:29.000058Z",
     "iopub.status.idle": "2024-08-12T13:25:29.148732Z",
     "shell.execute_reply": "2024-08-12T13:25:29.147486Z"
    },
    "papermill": {
     "duration": 0.173539,
     "end_time": "2024-08-12T13:25:29.151745",
     "exception": false,
     "start_time": "2024-08-12T13:25:28.978206",
     "status": "completed"
    },
    "tags": []
   },
   "outputs": [],
   "source": [
    "%load_ext sql\n",
    "\n",
    "# Connect to database\n",
    "%sql sqlite:///supply_chain_db"
   ]
  },
  {
   "cell_type": "code",
   "execution_count": 11,
   "id": "e2747883",
   "metadata": {
    "execution": {
     "iopub.execute_input": "2024-08-12T13:25:29.193673Z",
     "iopub.status.busy": "2024-08-12T13:25:29.193180Z",
     "iopub.status.idle": "2024-08-12T13:25:29.218681Z",
     "shell.execute_reply": "2024-08-12T13:25:29.217350Z"
    },
    "papermill": {
     "duration": 0.050515,
     "end_time": "2024-08-12T13:25:29.222076",
     "exception": false,
     "start_time": "2024-08-12T13:25:29.171561",
     "status": "completed"
    },
    "tags": []
   },
   "outputs": [
    {
     "name": "stdout",
     "output_type": "stream",
     "text": [
      " * sqlite:///supply_chain_db\n",
      "Done.\n"
     ]
    },
    {
     "data": {
      "text/html": [
       "<table>\n",
       "    <thead>\n",
       "        <tr>\n",
       "            <th>name</th>\n",
       "        </tr>\n",
       "    </thead>\n",
       "    <tbody>\n",
       "        <tr>\n",
       "            <td>chain</td>\n",
       "        </tr>\n",
       "    </tbody>\n",
       "</table>"
      ],
      "text/plain": [
       "[('chain',)]"
      ]
     },
     "execution_count": 11,
     "metadata": {},
     "output_type": "execute_result"
    }
   ],
   "source": [
    "%%sql\n",
    "-- List all the tables in the database\n",
    "SELECT\n",
    "    name\n",
    "FROM sqlite_master\n",
    "WHERE type='table';"
   ]
  },
  {
   "cell_type": "markdown",
   "id": "878777fc",
   "metadata": {
    "papermill": {
     "duration": 0.020571,
     "end_time": "2024-08-12T13:25:29.263718",
     "exception": false,
     "start_time": "2024-08-12T13:25:29.243147",
     "status": "completed"
    },
    "tags": []
   },
   "source": [
    "## <a id='3.2'>3.2 SQL Queries</a>"
   ]
  },
  {
   "cell_type": "markdown",
   "id": "9a4f6049",
   "metadata": {
    "papermill": {
     "duration": 0.019911,
     "end_time": "2024-08-12T13:25:29.304000",
     "exception": false,
     "start_time": "2024-08-12T13:25:29.284089",
     "status": "completed"
    },
    "tags": []
   },
   "source": [
    "### <a id='3.2.1'>3.2.1 Product Analysis</a>"
   ]
  },
  {
   "cell_type": "markdown",
   "id": "35e2d9aa",
   "metadata": {
    "papermill": {
     "duration": 0.022788,
     "end_time": "2024-08-12T13:25:29.347759",
     "exception": false,
     "start_time": "2024-08-12T13:25:29.324971",
     "status": "completed"
    },
    "tags": []
   },
   "source": [
    "#### <font color=darkcyan>3.2.1.1 Calculate the total revenue generated for each product type.</font>"
   ]
  },
  {
   "cell_type": "code",
   "execution_count": 12,
   "id": "8b96a511",
   "metadata": {
    "execution": {
     "iopub.execute_input": "2024-08-12T13:25:29.390911Z",
     "iopub.status.busy": "2024-08-12T13:25:29.390437Z",
     "iopub.status.idle": "2024-08-12T13:25:29.401352Z",
     "shell.execute_reply": "2024-08-12T13:25:29.400297Z"
    },
    "papermill": {
     "duration": 0.03547,
     "end_time": "2024-08-12T13:25:29.403635",
     "exception": false,
     "start_time": "2024-08-12T13:25:29.368165",
     "status": "completed"
    },
    "tags": []
   },
   "outputs": [
    {
     "name": "stdout",
     "output_type": "stream",
     "text": [
      " * sqlite:///supply_chain_db\n",
      "Done.\n"
     ]
    },
    {
     "data": {
      "text/html": [
       "<table>\n",
       "    <thead>\n",
       "        <tr>\n",
       "            <th>product_type</th>\n",
       "            <th>revenue_generated</th>\n",
       "        </tr>\n",
       "    </thead>\n",
       "    <tbody>\n",
       "        <tr>\n",
       "            <td>skincare</td>\n",
       "            <td>241628.16</td>\n",
       "        </tr>\n",
       "        <tr>\n",
       "            <td>haircare</td>\n",
       "            <td>174455.39</td>\n",
       "        </tr>\n",
       "        <tr>\n",
       "            <td>cosmetics</td>\n",
       "            <td>161521.27</td>\n",
       "        </tr>\n",
       "    </tbody>\n",
       "</table>"
      ],
      "text/plain": [
       "[('skincare', 241628.16), ('haircare', 174455.39), ('cosmetics', 161521.27)]"
      ]
     },
     "execution_count": 12,
     "metadata": {},
     "output_type": "execute_result"
    }
   ],
   "source": [
    "%%sql\n",
    "SELECT\n",
    "  product_type,\n",
    "  ROUND(SUM(revenue_generated),2) AS revenue_generated\n",
    "FROM chain\n",
    "GROUP BY 1\n",
    "ORDER BY 2 DESC;"
   ]
  },
  {
   "cell_type": "markdown",
   "id": "568911e7",
   "metadata": {
    "papermill": {
     "duration": 0.020344,
     "end_time": "2024-08-12T13:25:29.445987",
     "exception": false,
     "start_time": "2024-08-12T13:25:29.425643",
     "status": "completed"
    },
    "tags": []
   },
   "source": [
    "#### <font color=darkcyan>3.2.1.2 Determine the average price of products in each product category.</font>"
   ]
  },
  {
   "cell_type": "code",
   "execution_count": 13,
   "id": "ff042863",
   "metadata": {
    "execution": {
     "iopub.execute_input": "2024-08-12T13:25:29.489826Z",
     "iopub.status.busy": "2024-08-12T13:25:29.489364Z",
     "iopub.status.idle": "2024-08-12T13:25:29.500940Z",
     "shell.execute_reply": "2024-08-12T13:25:29.499576Z"
    },
    "papermill": {
     "duration": 0.036729,
     "end_time": "2024-08-12T13:25:29.503584",
     "exception": false,
     "start_time": "2024-08-12T13:25:29.466855",
     "status": "completed"
    },
    "tags": []
   },
   "outputs": [
    {
     "name": "stdout",
     "output_type": "stream",
     "text": [
      " * sqlite:///supply_chain_db\n",
      "Done.\n"
     ]
    },
    {
     "data": {
      "text/html": [
       "<table>\n",
       "    <thead>\n",
       "        <tr>\n",
       "            <th>product_type</th>\n",
       "            <th>avg_price</th>\n",
       "        </tr>\n",
       "    </thead>\n",
       "    <tbody>\n",
       "        <tr>\n",
       "            <td>cosmetics</td>\n",
       "            <td>57.36</td>\n",
       "        </tr>\n",
       "        <tr>\n",
       "            <td>skincare</td>\n",
       "            <td>47.26</td>\n",
       "        </tr>\n",
       "        <tr>\n",
       "            <td>haircare</td>\n",
       "            <td>46.01</td>\n",
       "        </tr>\n",
       "    </tbody>\n",
       "</table>"
      ],
      "text/plain": [
       "[('cosmetics', 57.36), ('skincare', 47.26), ('haircare', 46.01)]"
      ]
     },
     "execution_count": 13,
     "metadata": {},
     "output_type": "execute_result"
    }
   ],
   "source": [
    "%%sql\n",
    "SELECT\n",
    "  product_type,\n",
    "  ROUND(AVG(price),2) AS avg_price\n",
    "FROM chain\n",
    "GROUP BY 1\n",
    "ORDER BY 2 DESC;"
   ]
  },
  {
   "cell_type": "markdown",
   "id": "a18468c3",
   "metadata": {
    "papermill": {
     "duration": 0.020401,
     "end_time": "2024-08-12T13:25:29.544633",
     "exception": false,
     "start_time": "2024-08-12T13:25:29.524232",
     "status": "completed"
    },
    "tags": []
   },
   "source": [
    "#### <font color=darkcyan>3.2.1.3 Identify the top 5 product with the highest number of units sold.</font>"
   ]
  },
  {
   "cell_type": "code",
   "execution_count": 14,
   "id": "0fe455de",
   "metadata": {
    "execution": {
     "iopub.execute_input": "2024-08-12T13:25:29.587624Z",
     "iopub.status.busy": "2024-08-12T13:25:29.587237Z",
     "iopub.status.idle": "2024-08-12T13:25:29.600206Z",
     "shell.execute_reply": "2024-08-12T13:25:29.598717Z"
    },
    "papermill": {
     "duration": 0.037625,
     "end_time": "2024-08-12T13:25:29.602951",
     "exception": false,
     "start_time": "2024-08-12T13:25:29.565326",
     "status": "completed"
    },
    "tags": []
   },
   "outputs": [
    {
     "name": "stdout",
     "output_type": "stream",
     "text": [
      " * sqlite:///supply_chain_db\n",
      "Done.\n"
     ]
    },
    {
     "data": {
      "text/html": [
       "<table>\n",
       "    <thead>\n",
       "        <tr>\n",
       "            <th>product_type</th>\n",
       "            <th>sku</th>\n",
       "            <th>sales_volume</th>\n",
       "        </tr>\n",
       "    </thead>\n",
       "    <tbody>\n",
       "        <tr>\n",
       "            <td>skincare</td>\n",
       "            <td>SKU10</td>\n",
       "            <td>996</td>\n",
       "        </tr>\n",
       "        <tr>\n",
       "            <td>cosmetics</td>\n",
       "            <td>SKU94</td>\n",
       "            <td>987</td>\n",
       "        </tr>\n",
       "        <tr>\n",
       "            <td>skincare</td>\n",
       "            <td>SKU9</td>\n",
       "            <td>980</td>\n",
       "        </tr>\n",
       "        <tr>\n",
       "            <td>skincare</td>\n",
       "            <td>SKU36</td>\n",
       "            <td>963</td>\n",
       "        </tr>\n",
       "        <tr>\n",
       "            <td>skincare</td>\n",
       "            <td>SKU37</td>\n",
       "            <td>963</td>\n",
       "        </tr>\n",
       "    </tbody>\n",
       "</table>"
      ],
      "text/plain": [
       "[('skincare', 'SKU10', 996),\n",
       " ('cosmetics', 'SKU94', 987),\n",
       " ('skincare', 'SKU9', 980),\n",
       " ('skincare', 'SKU36', 963),\n",
       " ('skincare', 'SKU37', 963)]"
      ]
     },
     "execution_count": 14,
     "metadata": {},
     "output_type": "execute_result"
    }
   ],
   "source": [
    "%%sql\n",
    "SELECT\n",
    "  product_type,\n",
    "  sku,\n",
    "  SUM(number_of_products_sold) AS sales_volume\n",
    "FROM chain\n",
    "GROUP BY 1, 2\n",
    "ORDER BY 3 DESC\n",
    "LIMIT 5;"
   ]
  },
  {
   "cell_type": "markdown",
   "id": "1d075772",
   "metadata": {
    "papermill": {
     "duration": 0.020771,
     "end_time": "2024-08-12T13:25:29.645308",
     "exception": false,
     "start_time": "2024-08-12T13:25:29.624537",
     "status": "completed"
    },
    "tags": []
   },
   "source": [
    "#### <font color=darkcyan>3.2.1.4 Calculate the average amount of days it takes for a supplier to deliver products.</font>"
   ]
  },
  {
   "cell_type": "code",
   "execution_count": 15,
   "id": "361a4c3b",
   "metadata": {
    "execution": {
     "iopub.execute_input": "2024-08-12T13:25:29.688862Z",
     "iopub.status.busy": "2024-08-12T13:25:29.688468Z",
     "iopub.status.idle": "2024-08-12T13:25:29.700551Z",
     "shell.execute_reply": "2024-08-12T13:25:29.699377Z"
    },
    "papermill": {
     "duration": 0.03724,
     "end_time": "2024-08-12T13:25:29.703469",
     "exception": false,
     "start_time": "2024-08-12T13:25:29.666229",
     "status": "completed"
    },
    "tags": []
   },
   "outputs": [
    {
     "name": "stdout",
     "output_type": "stream",
     "text": [
      " * sqlite:///supply_chain_db\n",
      "Done.\n"
     ]
    },
    {
     "data": {
      "text/html": [
       "<table>\n",
       "    <thead>\n",
       "        <tr>\n",
       "            <th>supplier_name</th>\n",
       "            <th>avg_lead_time</th>\n",
       "        </tr>\n",
       "    </thead>\n",
       "    <tbody>\n",
       "        <tr>\n",
       "            <td>Supplier 3</td>\n",
       "            <td>20</td>\n",
       "        </tr>\n",
       "        <tr>\n",
       "            <td>Supplier 5</td>\n",
       "            <td>18</td>\n",
       "        </tr>\n",
       "        <tr>\n",
       "            <td>Supplier 2</td>\n",
       "            <td>18</td>\n",
       "        </tr>\n",
       "        <tr>\n",
       "            <td>Supplier 4</td>\n",
       "            <td>15</td>\n",
       "        </tr>\n",
       "        <tr>\n",
       "            <td>Supplier 1</td>\n",
       "            <td>14</td>\n",
       "        </tr>\n",
       "    </tbody>\n",
       "</table>"
      ],
      "text/plain": [
       "[('Supplier 3', 20),\n",
       " ('Supplier 5', 18),\n",
       " ('Supplier 2', 18),\n",
       " ('Supplier 4', 15),\n",
       " ('Supplier 1', 14)]"
      ]
     },
     "execution_count": 15,
     "metadata": {},
     "output_type": "execute_result"
    }
   ],
   "source": [
    "%%sql\n",
    "SELECT\n",
    "  supplier_name,\n",
    "  CAST(AVG(supplier_lead_time) AS INT) AS avg_lead_time\n",
    "FROM chain\n",
    "GROUP BY 1\n",
    "ORDER BY 2 DESC;"
   ]
  },
  {
   "cell_type": "markdown",
   "id": "b60f3bd6",
   "metadata": {
    "papermill": {
     "duration": 0.022531,
     "end_time": "2024-08-12T13:25:29.747757",
     "exception": false,
     "start_time": "2024-08-12T13:25:29.725226",
     "status": "completed"
    },
    "tags": []
   },
   "source": [
    "#### <font color=darkcyan>3.2.1.5 Determine the top 3 products by sales volume for each product type.</font>"
   ]
  },
  {
   "cell_type": "code",
   "execution_count": 16,
   "id": "4b0583a1",
   "metadata": {
    "execution": {
     "iopub.execute_input": "2024-08-12T13:25:29.793020Z",
     "iopub.status.busy": "2024-08-12T13:25:29.792620Z",
     "iopub.status.idle": "2024-08-12T13:25:29.807183Z",
     "shell.execute_reply": "2024-08-12T13:25:29.806069Z"
    },
    "papermill": {
     "duration": 0.039711,
     "end_time": "2024-08-12T13:25:29.809697",
     "exception": false,
     "start_time": "2024-08-12T13:25:29.769986",
     "status": "completed"
    },
    "tags": []
   },
   "outputs": [
    {
     "name": "stdout",
     "output_type": "stream",
     "text": [
      " * sqlite:///supply_chain_db\n",
      "Done.\n"
     ]
    },
    {
     "data": {
      "text/html": [
       "<table>\n",
       "    <thead>\n",
       "        <tr>\n",
       "            <th>product_type</th>\n",
       "            <th>sku</th>\n",
       "            <th>sales_volume</th>\n",
       "            <th>product_rnk</th>\n",
       "        </tr>\n",
       "    </thead>\n",
       "    <tbody>\n",
       "        <tr>\n",
       "            <td>cosmetics</td>\n",
       "            <td>SKU94</td>\n",
       "            <td>987</td>\n",
       "            <td>1</td>\n",
       "        </tr>\n",
       "        <tr>\n",
       "            <td>cosmetics</td>\n",
       "            <td>SKU44</td>\n",
       "            <td>919</td>\n",
       "            <td>2</td>\n",
       "        </tr>\n",
       "        <tr>\n",
       "            <td>cosmetics</td>\n",
       "            <td>SKU91</td>\n",
       "            <td>916</td>\n",
       "            <td>3</td>\n",
       "        </tr>\n",
       "        <tr>\n",
       "            <td>haircare</td>\n",
       "            <td>SKU78</td>\n",
       "            <td>946</td>\n",
       "            <td>1</td>\n",
       "        </tr>\n",
       "        <tr>\n",
       "            <td>haircare</td>\n",
       "            <td>SKU74</td>\n",
       "            <td>904</td>\n",
       "            <td>2</td>\n",
       "        </tr>\n",
       "        <tr>\n",
       "            <td>haircare</td>\n",
       "            <td>SKU22</td>\n",
       "            <td>884</td>\n",
       "            <td>3</td>\n",
       "        </tr>\n",
       "        <tr>\n",
       "            <td>skincare</td>\n",
       "            <td>SKU10</td>\n",
       "            <td>996</td>\n",
       "            <td>1</td>\n",
       "        </tr>\n",
       "        <tr>\n",
       "            <td>skincare</td>\n",
       "            <td>SKU9</td>\n",
       "            <td>980</td>\n",
       "            <td>2</td>\n",
       "        </tr>\n",
       "        <tr>\n",
       "            <td>skincare</td>\n",
       "            <td>SKU36</td>\n",
       "            <td>963</td>\n",
       "            <td>3</td>\n",
       "        </tr>\n",
       "    </tbody>\n",
       "</table>"
      ],
      "text/plain": [
       "[('cosmetics', 'SKU94', 987, 1),\n",
       " ('cosmetics', 'SKU44', 919, 2),\n",
       " ('cosmetics', 'SKU91', 916, 3),\n",
       " ('haircare', 'SKU78', 946, 1),\n",
       " ('haircare', 'SKU74', 904, 2),\n",
       " ('haircare', 'SKU22', 884, 3),\n",
       " ('skincare', 'SKU10', 996, 1),\n",
       " ('skincare', 'SKU9', 980, 2),\n",
       " ('skincare', 'SKU36', 963, 3)]"
      ]
     },
     "execution_count": 16,
     "metadata": {},
     "output_type": "execute_result"
    }
   ],
   "source": [
    "%%sql\n",
    "WITH ProductSales AS (\n",
    "  SELECT\n",
    "    product_type,\n",
    "    sku,\n",
    "    SUM(number_of_products_sold) AS sales_volume\n",
    "  FROM chain\n",
    "  GROUP BY 1, 2\n",
    ")\n",
    "\n",
    "SELECT *\n",
    "FROM\n",
    "(\n",
    "  SELECT *,\n",
    "  ROW_NUMBER()OVER(\n",
    "    PARTITION BY product_type\n",
    "    ORDER BY sales_volume DESC) AS product_rnk\n",
    "FROM ProductSales) AS sb1\n",
    "WHERE product_rnk <= 3;\n"
   ]
  },
  {
   "cell_type": "markdown",
   "id": "df39659a",
   "metadata": {
    "papermill": {
     "duration": 0.021299,
     "end_time": "2024-08-12T13:25:29.852630",
     "exception": false,
     "start_time": "2024-08-12T13:25:29.831331",
     "status": "completed"
    },
    "tags": []
   },
   "source": [
    "### <a id='3.2.2'>3.2.2 Procurement Analysis</a>"
   ]
  },
  {
   "cell_type": "markdown",
   "id": "5c03d057",
   "metadata": {
    "papermill": {
     "duration": 0.02113,
     "end_time": "2024-08-12T13:25:29.895285",
     "exception": false,
     "start_time": "2024-08-12T13:25:29.874155",
     "status": "completed"
    },
    "tags": []
   },
   "source": [
    "#### <font color=darkcyan>3.2.2.1 Calculate average lead times for different suppliers.</font>"
   ]
  },
  {
   "cell_type": "code",
   "execution_count": 17,
   "id": "ecb859e1",
   "metadata": {
    "execution": {
     "iopub.execute_input": "2024-08-12T13:25:29.940802Z",
     "iopub.status.busy": "2024-08-12T13:25:29.940377Z",
     "iopub.status.idle": "2024-08-12T13:25:29.951407Z",
     "shell.execute_reply": "2024-08-12T13:25:29.950316Z"
    },
    "papermill": {
     "duration": 0.037126,
     "end_time": "2024-08-12T13:25:29.954118",
     "exception": false,
     "start_time": "2024-08-12T13:25:29.916992",
     "status": "completed"
    },
    "tags": []
   },
   "outputs": [
    {
     "name": "stdout",
     "output_type": "stream",
     "text": [
      " * sqlite:///supply_chain_db\n",
      "Done.\n"
     ]
    },
    {
     "data": {
      "text/html": [
       "<table>\n",
       "    <thead>\n",
       "        <tr>\n",
       "            <th>supplier_name</th>\n",
       "            <th>avg_supplier_lead_time</th>\n",
       "        </tr>\n",
       "    </thead>\n",
       "    <tbody>\n",
       "        <tr>\n",
       "            <td>Supplier 1</td>\n",
       "            <td>14.78</td>\n",
       "        </tr>\n",
       "        <tr>\n",
       "            <td>Supplier 2</td>\n",
       "            <td>18.55</td>\n",
       "        </tr>\n",
       "        <tr>\n",
       "            <td>Supplier 3</td>\n",
       "            <td>20.13</td>\n",
       "        </tr>\n",
       "        <tr>\n",
       "            <td>Supplier 4</td>\n",
       "            <td>15.22</td>\n",
       "        </tr>\n",
       "        <tr>\n",
       "            <td>Supplier 5</td>\n",
       "            <td>18.06</td>\n",
       "        </tr>\n",
       "    </tbody>\n",
       "</table>"
      ],
      "text/plain": [
       "[('Supplier 1', 14.78),\n",
       " ('Supplier 2', 18.55),\n",
       " ('Supplier 3', 20.13),\n",
       " ('Supplier 4', 15.22),\n",
       " ('Supplier 5', 18.06)]"
      ]
     },
     "execution_count": 17,
     "metadata": {},
     "output_type": "execute_result"
    }
   ],
   "source": [
    "%%sql\n",
    "SELECT \n",
    "  supplier_name,\n",
    "  ROUND(AVG(supplier_lead_time),2) AS avg_supplier_lead_time\n",
    "FROM chain\n",
    "GROUP BY 1;"
   ]
  },
  {
   "cell_type": "markdown",
   "id": "8b15a9b4",
   "metadata": {
    "papermill": {
     "duration": 0.023598,
     "end_time": "2024-08-12T13:25:30.000035",
     "exception": false,
     "start_time": "2024-08-12T13:25:29.976437",
     "status": "completed"
    },
    "tags": []
   },
   "source": [
    "#### <font color=darkcyan>3.2.2.2 Identify the top 3 suppliers with the highest defect rates.</font>"
   ]
  },
  {
   "cell_type": "code",
   "execution_count": 18,
   "id": "09bc03c7",
   "metadata": {
    "execution": {
     "iopub.execute_input": "2024-08-12T13:25:30.048235Z",
     "iopub.status.busy": "2024-08-12T13:25:30.047746Z",
     "iopub.status.idle": "2024-08-12T13:25:30.059267Z",
     "shell.execute_reply": "2024-08-12T13:25:30.057972Z"
    },
    "papermill": {
     "duration": 0.037471,
     "end_time": "2024-08-12T13:25:30.061653",
     "exception": false,
     "start_time": "2024-08-12T13:25:30.024182",
     "status": "completed"
    },
    "tags": []
   },
   "outputs": [
    {
     "name": "stdout",
     "output_type": "stream",
     "text": [
      " * sqlite:///supply_chain_db\n",
      "Done.\n"
     ]
    },
    {
     "data": {
      "text/html": [
       "<table>\n",
       "    <thead>\n",
       "        <tr>\n",
       "            <th>supplier_name</th>\n",
       "            <th>avg_defect_rates</th>\n",
       "        </tr>\n",
       "    </thead>\n",
       "    <tbody>\n",
       "        <tr>\n",
       "            <td>Supplier 5</td>\n",
       "            <td>2.67</td>\n",
       "        </tr>\n",
       "        <tr>\n",
       "            <td>Supplier 3</td>\n",
       "            <td>2.47</td>\n",
       "        </tr>\n",
       "        <tr>\n",
       "            <td>Supplier 2</td>\n",
       "            <td>2.36</td>\n",
       "        </tr>\n",
       "    </tbody>\n",
       "</table>"
      ],
      "text/plain": [
       "[('Supplier 5', 2.67), ('Supplier 3', 2.47), ('Supplier 2', 2.36)]"
      ]
     },
     "execution_count": 18,
     "metadata": {},
     "output_type": "execute_result"
    }
   ],
   "source": [
    "%%sql\n",
    "SELECT\n",
    "  supplier_name,\n",
    "  ROUND(AVG(defect_rates),2) AS avg_defect_rates\n",
    "FROM chain\n",
    "GROUP BY 1 \n",
    "ORDER BY 2 DESC\n",
    "LIMIT 3;"
   ]
  },
  {
   "cell_type": "markdown",
   "id": "dc0871bf",
   "metadata": {
    "papermill": {
     "duration": 0.022096,
     "end_time": "2024-08-12T13:25:30.106290",
     "exception": false,
     "start_time": "2024-08-12T13:25:30.084194",
     "status": "completed"
    },
    "tags": []
   },
   "source": [
    "#### <font color=darkcyan>3.2.2.3 Find the most used supplier for each product type.</font>"
   ]
  },
  {
   "cell_type": "code",
   "execution_count": 19,
   "id": "31749176",
   "metadata": {
    "execution": {
     "iopub.execute_input": "2024-08-12T13:25:30.155413Z",
     "iopub.status.busy": "2024-08-12T13:25:30.155014Z",
     "iopub.status.idle": "2024-08-12T13:25:30.168818Z",
     "shell.execute_reply": "2024-08-12T13:25:30.167640Z"
    },
    "papermill": {
     "duration": 0.040303,
     "end_time": "2024-08-12T13:25:30.171363",
     "exception": false,
     "start_time": "2024-08-12T13:25:30.131060",
     "status": "completed"
    },
    "tags": []
   },
   "outputs": [
    {
     "name": "stdout",
     "output_type": "stream",
     "text": [
      " * sqlite:///supply_chain_db\n",
      "Done.\n"
     ]
    },
    {
     "data": {
      "text/html": [
       "<table>\n",
       "    <thead>\n",
       "        <tr>\n",
       "            <th>product_type</th>\n",
       "            <th>supplier_name</th>\n",
       "            <th>supplier_count</th>\n",
       "            <th>supplier_rnk</th>\n",
       "        </tr>\n",
       "    </thead>\n",
       "    <tbody>\n",
       "        <tr>\n",
       "            <td>cosmetics</td>\n",
       "            <td>Supplier 5</td>\n",
       "            <td>7</td>\n",
       "            <td>1</td>\n",
       "        </tr>\n",
       "        <tr>\n",
       "            <td>cosmetics</td>\n",
       "            <td>Supplier 2</td>\n",
       "            <td>7</td>\n",
       "            <td>1</td>\n",
       "        </tr>\n",
       "        <tr>\n",
       "            <td>cosmetics</td>\n",
       "            <td>Supplier 1</td>\n",
       "            <td>7</td>\n",
       "            <td>1</td>\n",
       "        </tr>\n",
       "        <tr>\n",
       "            <td>haircare</td>\n",
       "            <td>Supplier 4</td>\n",
       "            <td>10</td>\n",
       "            <td>1</td>\n",
       "        </tr>\n",
       "        <tr>\n",
       "            <td>haircare</td>\n",
       "            <td>Supplier 2</td>\n",
       "            <td>10</td>\n",
       "            <td>1</td>\n",
       "        </tr>\n",
       "        <tr>\n",
       "            <td>skincare</td>\n",
       "            <td>Supplier 1</td>\n",
       "            <td>15</td>\n",
       "            <td>1</td>\n",
       "        </tr>\n",
       "    </tbody>\n",
       "</table>"
      ],
      "text/plain": [
       "[('cosmetics', 'Supplier 5', 7, 1),\n",
       " ('cosmetics', 'Supplier 2', 7, 1),\n",
       " ('cosmetics', 'Supplier 1', 7, 1),\n",
       " ('haircare', 'Supplier 4', 10, 1),\n",
       " ('haircare', 'Supplier 2', 10, 1),\n",
       " ('skincare', 'Supplier 1', 15, 1)]"
      ]
     },
     "execution_count": 19,
     "metadata": {},
     "output_type": "execute_result"
    }
   ],
   "source": [
    "%%sql\n",
    "WITH SupplierCounts AS (\n",
    "SELECT\n",
    "  product_type, \n",
    "  supplier_name, \n",
    "  COUNT(*) AS supplier_count,\n",
    "  DENSE_RANK()OVER(\n",
    "    PARTITION BY product_type\n",
    "    ORDER BY COUNT(*) DESC\n",
    "  ) AS supplier_rnk\n",
    "FROM chain\n",
    "GROUP BY 1 , 2)\n",
    "\n",
    "SELECT *\n",
    "FROM SupplierCounts\n",
    "WHERE supplier_rnk = 1;"
   ]
  },
  {
   "cell_type": "markdown",
   "id": "86a0b7df",
   "metadata": {
    "papermill": {
     "duration": 0.02261,
     "end_time": "2024-08-12T13:25:30.217752",
     "exception": false,
     "start_time": "2024-08-12T13:25:30.195142",
     "status": "completed"
    },
    "tags": []
   },
   "source": [
    "### <a id='3.2.3'>3.2.3 Production Analysis</a>"
   ]
  },
  {
   "cell_type": "markdown",
   "id": "39660144",
   "metadata": {
    "papermill": {
     "duration": 0.023083,
     "end_time": "2024-08-12T13:25:30.264093",
     "exception": false,
     "start_time": "2024-08-12T13:25:30.241010",
     "status": "completed"
    },
    "tags": []
   },
   "source": [
    "#### <font color=darkcyan>3.2.3.1 Calculate the total production volume for each supplier.</font>"
   ]
  },
  {
   "cell_type": "code",
   "execution_count": 20,
   "id": "6a7eaf0f",
   "metadata": {
    "execution": {
     "iopub.execute_input": "2024-08-12T13:25:30.311752Z",
     "iopub.status.busy": "2024-08-12T13:25:30.311356Z",
     "iopub.status.idle": "2024-08-12T13:25:30.323428Z",
     "shell.execute_reply": "2024-08-12T13:25:30.322027Z"
    },
    "papermill": {
     "duration": 0.039768,
     "end_time": "2024-08-12T13:25:30.326447",
     "exception": false,
     "start_time": "2024-08-12T13:25:30.286679",
     "status": "completed"
    },
    "tags": []
   },
   "outputs": [
    {
     "name": "stdout",
     "output_type": "stream",
     "text": [
      " * sqlite:///supply_chain_db\n",
      "Done.\n"
     ]
    },
    {
     "data": {
      "text/html": [
       "<table>\n",
       "    <thead>\n",
       "        <tr>\n",
       "            <th>supplier_name</th>\n",
       "            <th>production_volumes</th>\n",
       "        </tr>\n",
       "    </thead>\n",
       "    <tbody>\n",
       "        <tr>\n",
       "            <td>Supplier 2</td>\n",
       "            <td>14105</td>\n",
       "        </tr>\n",
       "        <tr>\n",
       "            <td>Supplier 1</td>\n",
       "            <td>13545</td>\n",
       "        </tr>\n",
       "        <tr>\n",
       "            <td>Supplier 4</td>\n",
       "            <td>11756</td>\n",
       "        </tr>\n",
       "        <tr>\n",
       "            <td>Supplier 5</td>\n",
       "            <td>9381</td>\n",
       "        </tr>\n",
       "        <tr>\n",
       "            <td>Supplier 3</td>\n",
       "            <td>7997</td>\n",
       "        </tr>\n",
       "    </tbody>\n",
       "</table>"
      ],
      "text/plain": [
       "[('Supplier 2', 14105),\n",
       " ('Supplier 1', 13545),\n",
       " ('Supplier 4', 11756),\n",
       " ('Supplier 5', 9381),\n",
       " ('Supplier 3', 7997)]"
      ]
     },
     "execution_count": 20,
     "metadata": {},
     "output_type": "execute_result"
    }
   ],
   "source": [
    "%%sql\n",
    "SELECT\n",
    "  supplier_name,\n",
    "  SUM(production_volumes) AS production_volumes\n",
    "FROM chain\n",
    "GROUP BY 1\n",
    "ORDER BY 2 DESC;"
   ]
  },
  {
   "cell_type": "markdown",
   "id": "afa82736",
   "metadata": {
    "papermill": {
     "duration": 0.023077,
     "end_time": "2024-08-12T13:25:30.373292",
     "exception": false,
     "start_time": "2024-08-12T13:25:30.350215",
     "status": "completed"
    },
    "tags": []
   },
   "source": [
    "#### <font color=darkcyan>3.2.3.2 Determine the average manufacturing lead time in days across all products.</font>"
   ]
  },
  {
   "cell_type": "code",
   "execution_count": 21,
   "id": "681b833f",
   "metadata": {
    "execution": {
     "iopub.execute_input": "2024-08-12T13:25:30.421561Z",
     "iopub.status.busy": "2024-08-12T13:25:30.421176Z",
     "iopub.status.idle": "2024-08-12T13:25:30.431974Z",
     "shell.execute_reply": "2024-08-12T13:25:30.430450Z"
    },
    "papermill": {
     "duration": 0.038804,
     "end_time": "2024-08-12T13:25:30.435306",
     "exception": false,
     "start_time": "2024-08-12T13:25:30.396502",
     "status": "completed"
    },
    "tags": []
   },
   "outputs": [
    {
     "name": "stdout",
     "output_type": "stream",
     "text": [
      " * sqlite:///supply_chain_db\n",
      "Done.\n"
     ]
    },
    {
     "data": {
      "text/html": [
       "<table>\n",
       "    <thead>\n",
       "        <tr>\n",
       "            <th>avg_manufacturing_lead_time</th>\n",
       "        </tr>\n",
       "    </thead>\n",
       "    <tbody>\n",
       "        <tr>\n",
       "            <td>14.77</td>\n",
       "        </tr>\n",
       "    </tbody>\n",
       "</table>"
      ],
      "text/plain": [
       "[(14.77,)]"
      ]
     },
     "execution_count": 21,
     "metadata": {},
     "output_type": "execute_result"
    }
   ],
   "source": [
    "%%sql\n",
    "SELECT\n",
    "  AVG(manufacturing_lead_time) AS avg_manufacturing_lead_time\n",
    "FROM chain;"
   ]
  },
  {
   "cell_type": "markdown",
   "id": "c817c716",
   "metadata": {
    "papermill": {
     "duration": 0.024408,
     "end_time": "2024-08-12T13:25:30.483497",
     "exception": false,
     "start_time": "2024-08-12T13:25:30.459089",
     "status": "completed"
    },
    "tags": []
   },
   "source": [
    "#### <font color=darkcyan>3.2.3.3 Identify the supplier, product and product type with the lowest defect rates.</font>"
   ]
  },
  {
   "cell_type": "code",
   "execution_count": 22,
   "id": "4056ba20",
   "metadata": {
    "execution": {
     "iopub.execute_input": "2024-08-12T13:25:30.533002Z",
     "iopub.status.busy": "2024-08-12T13:25:30.532581Z",
     "iopub.status.idle": "2024-08-12T13:25:30.546417Z",
     "shell.execute_reply": "2024-08-12T13:25:30.545090Z"
    },
    "papermill": {
     "duration": 0.042266,
     "end_time": "2024-08-12T13:25:30.549588",
     "exception": false,
     "start_time": "2024-08-12T13:25:30.507322",
     "status": "completed"
    },
    "tags": []
   },
   "outputs": [
    {
     "name": "stdout",
     "output_type": "stream",
     "text": [
      " * sqlite:///supply_chain_db\n",
      "Done.\n"
     ]
    },
    {
     "data": {
      "text/html": [
       "<table>\n",
       "    <thead>\n",
       "        <tr>\n",
       "            <th>supplier_name</th>\n",
       "            <th>sku</th>\n",
       "            <th>product_type</th>\n",
       "            <th>defect_rates</th>\n",
       "        </tr>\n",
       "    </thead>\n",
       "    <tbody>\n",
       "        <tr>\n",
       "            <td>Supplier 5</td>\n",
       "            <td>SKU21</td>\n",
       "            <td>cosmetics</td>\n",
       "            <td>0.0186075676310149</td>\n",
       "        </tr>\n",
       "    </tbody>\n",
       "</table>"
      ],
      "text/plain": [
       "[('Supplier 5', 'SKU21', 'cosmetics', 0.0186075676310149)]"
      ]
     },
     "execution_count": 22,
     "metadata": {},
     "output_type": "execute_result"
    }
   ],
   "source": [
    "%%sql\n",
    "SELECT\n",
    "  supplier_name,\n",
    "  sku,\n",
    "  product_type,\n",
    "  defect_rates\n",
    "FROM chain\n",
    "WHERE defect_rates = (SELECT MIN(defect_rates) FROM chain);"
   ]
  },
  {
   "cell_type": "markdown",
   "id": "0be23fe8",
   "metadata": {
    "papermill": {
     "duration": 0.023576,
     "end_time": "2024-08-12T13:25:30.598071",
     "exception": false,
     "start_time": "2024-08-12T13:25:30.574495",
     "status": "completed"
    },
    "tags": []
   },
   "source": [
    "#### <font color=darkcyan>3.2.3.4 Calculate the average manufacturing cost per unit for each product type.</font>"
   ]
  },
  {
   "cell_type": "code",
   "execution_count": 23,
   "id": "f7adc06d",
   "metadata": {
    "execution": {
     "iopub.execute_input": "2024-08-12T13:25:30.647198Z",
     "iopub.status.busy": "2024-08-12T13:25:30.646782Z",
     "iopub.status.idle": "2024-08-12T13:25:30.657591Z",
     "shell.execute_reply": "2024-08-12T13:25:30.656412Z"
    },
    "papermill": {
     "duration": 0.038682,
     "end_time": "2024-08-12T13:25:30.660361",
     "exception": false,
     "start_time": "2024-08-12T13:25:30.621679",
     "status": "completed"
    },
    "tags": []
   },
   "outputs": [
    {
     "name": "stdout",
     "output_type": "stream",
     "text": [
      " * sqlite:///supply_chain_db\n",
      "Done.\n"
     ]
    },
    {
     "data": {
      "text/html": [
       "<table>\n",
       "    <thead>\n",
       "        <tr>\n",
       "            <th>product_type</th>\n",
       "            <th>avg_unit_cost</th>\n",
       "        </tr>\n",
       "    </thead>\n",
       "    <tbody>\n",
       "        <tr>\n",
       "            <td>cosmetics</td>\n",
       "            <td>0.09</td>\n",
       "        </tr>\n",
       "        <tr>\n",
       "            <td>haircare</td>\n",
       "            <td>0.08</td>\n",
       "        </tr>\n",
       "        <tr>\n",
       "            <td>skincare</td>\n",
       "            <td>0.08</td>\n",
       "        </tr>\n",
       "    </tbody>\n",
       "</table>"
      ],
      "text/plain": [
       "[('cosmetics', 0.09), ('haircare', 0.08), ('skincare', 0.08)]"
      ]
     },
     "execution_count": 23,
     "metadata": {},
     "output_type": "execute_result"
    }
   ],
   "source": [
    "%%sql\n",
    "SELECT\n",
    "  product_type,\n",
    "  ROUND(SUM(manufacturing_costs) / SUM(production_volumes),2) AS avg_unit_cost\n",
    "FROM chain\n",
    "GROUP BY 1;"
   ]
  },
  {
   "cell_type": "markdown",
   "id": "d544e428",
   "metadata": {
    "papermill": {
     "duration": 0.023855,
     "end_time": "2024-08-12T13:25:30.708036",
     "exception": false,
     "start_time": "2024-08-12T13:25:30.684181",
     "status": "completed"
    },
    "tags": []
   },
   "source": [
    "#### <font color=darkcyan>3.2.3.5 Analyze the relationship between production volume and defect rates for each supplier.</font>"
   ]
  },
  {
   "cell_type": "code",
   "execution_count": 24,
   "id": "521f6629",
   "metadata": {
    "execution": {
     "iopub.execute_input": "2024-08-12T13:25:30.758865Z",
     "iopub.status.busy": "2024-08-12T13:25:30.758393Z",
     "iopub.status.idle": "2024-08-12T13:25:30.770077Z",
     "shell.execute_reply": "2024-08-12T13:25:30.768848Z"
    },
    "papermill": {
     "duration": 0.039892,
     "end_time": "2024-08-12T13:25:30.772651",
     "exception": false,
     "start_time": "2024-08-12T13:25:30.732759",
     "status": "completed"
    },
    "tags": []
   },
   "outputs": [
    {
     "name": "stdout",
     "output_type": "stream",
     "text": [
      " * sqlite:///supply_chain_db\n",
      "Done.\n"
     ]
    },
    {
     "data": {
      "text/html": [
       "<table>\n",
       "    <thead>\n",
       "        <tr>\n",
       "            <th>supplier_name</th>\n",
       "            <th>production_volumes</th>\n",
       "            <th>avg_defect_rates</th>\n",
       "        </tr>\n",
       "    </thead>\n",
       "    <tbody>\n",
       "        <tr>\n",
       "            <td>Supplier 2</td>\n",
       "            <td>14105</td>\n",
       "            <td>2.36</td>\n",
       "        </tr>\n",
       "        <tr>\n",
       "            <td>Supplier 1</td>\n",
       "            <td>13545</td>\n",
       "            <td>1.8</td>\n",
       "        </tr>\n",
       "        <tr>\n",
       "            <td>Supplier 4</td>\n",
       "            <td>11756</td>\n",
       "            <td>2.34</td>\n",
       "        </tr>\n",
       "        <tr>\n",
       "            <td>Supplier 5</td>\n",
       "            <td>9381</td>\n",
       "            <td>2.67</td>\n",
       "        </tr>\n",
       "        <tr>\n",
       "            <td>Supplier 3</td>\n",
       "            <td>7997</td>\n",
       "            <td>2.47</td>\n",
       "        </tr>\n",
       "    </tbody>\n",
       "</table>"
      ],
      "text/plain": [
       "[('Supplier 2', 14105, 2.36),\n",
       " ('Supplier 1', 13545, 1.8),\n",
       " ('Supplier 4', 11756, 2.34),\n",
       " ('Supplier 5', 9381, 2.67),\n",
       " ('Supplier 3', 7997, 2.47)]"
      ]
     },
     "execution_count": 24,
     "metadata": {},
     "output_type": "execute_result"
    }
   ],
   "source": [
    "%%sql\n",
    "SELECT\n",
    "  supplier_name,\n",
    "  SUM(production_volumes) AS production_volumes,\n",
    "  ROUND(AVG(defect_rates), 2) AS avg_defect_rates\n",
    "FROM chain\n",
    "GROUP BY 1\n",
    "ORDER BY 2 DESC;"
   ]
  },
  {
   "cell_type": "markdown",
   "id": "0a86585d",
   "metadata": {
    "papermill": {
     "duration": 0.024635,
     "end_time": "2024-08-12T13:25:30.821232",
     "exception": false,
     "start_time": "2024-08-12T13:25:30.796597",
     "status": "completed"
    },
    "tags": []
   },
   "source": [
    "### <a id='3.2.4'>3.2.4 Logistic Analysis</a>"
   ]
  },
  {
   "cell_type": "markdown",
   "id": "a20ca3c8",
   "metadata": {
    "papermill": {
     "duration": 0.02398,
     "end_time": "2024-08-12T13:25:30.869396",
     "exception": false,
     "start_time": "2024-08-12T13:25:30.845416",
     "status": "completed"
    },
    "tags": []
   },
   "source": [
    "#### <font color=darkcyan>3.2.4.1 Calculate the total shipping cost for each shipping carrier.</font>"
   ]
  },
  {
   "cell_type": "code",
   "execution_count": 25,
   "id": "44d55d80",
   "metadata": {
    "execution": {
     "iopub.execute_input": "2024-08-12T13:25:30.919840Z",
     "iopub.status.busy": "2024-08-12T13:25:30.919430Z",
     "iopub.status.idle": "2024-08-12T13:25:30.931403Z",
     "shell.execute_reply": "2024-08-12T13:25:30.930048Z"
    },
    "papermill": {
     "duration": 0.040488,
     "end_time": "2024-08-12T13:25:30.934000",
     "exception": false,
     "start_time": "2024-08-12T13:25:30.893512",
     "status": "completed"
    },
    "tags": []
   },
   "outputs": [
    {
     "name": "stdout",
     "output_type": "stream",
     "text": [
      " * sqlite:///supply_chain_db\n",
      "Done.\n"
     ]
    },
    {
     "data": {
      "text/html": [
       "<table>\n",
       "    <thead>\n",
       "        <tr>\n",
       "            <th>shipping_carriers</th>\n",
       "            <th>shipping_costs</th>\n",
       "        </tr>\n",
       "    </thead>\n",
       "    <tbody>\n",
       "        <tr>\n",
       "            <td>Carrier B</td>\n",
       "            <td>236.9</td>\n",
       "        </tr>\n",
       "        <tr>\n",
       "            <td>Carrier C</td>\n",
       "            <td>162.38</td>\n",
       "        </tr>\n",
       "        <tr>\n",
       "            <td>Carrier A</td>\n",
       "            <td>155.54</td>\n",
       "        </tr>\n",
       "    </tbody>\n",
       "</table>"
      ],
      "text/plain": [
       "[('Carrier B', 236.9), ('Carrier C', 162.38), ('Carrier A', 155.54)]"
      ]
     },
     "execution_count": 25,
     "metadata": {},
     "output_type": "execute_result"
    }
   ],
   "source": [
    "%%sql\n",
    "SELECT\n",
    "  shipping_carriers,\n",
    "  ROUND(SUM(shipping_costs),2) AS shipping_costs\n",
    "FROM chain\n",
    "GROUP BY 1\n",
    "ORDER BY 2 DESC;"
   ]
  },
  {
   "cell_type": "markdown",
   "id": "18f52b53",
   "metadata": {
    "papermill": {
     "duration": 0.025545,
     "end_time": "2024-08-12T13:25:30.984126",
     "exception": false,
     "start_time": "2024-08-12T13:25:30.958581",
     "status": "completed"
    },
    "tags": []
   },
   "source": [
    "#### <font color=darkcyan>3.2.4.2 Determine the average shipping time for products delivered by air.</font>"
   ]
  },
  {
   "cell_type": "code",
   "execution_count": 26,
   "id": "03f3a179",
   "metadata": {
    "execution": {
     "iopub.execute_input": "2024-08-12T13:25:31.036718Z",
     "iopub.status.busy": "2024-08-12T13:25:31.036350Z",
     "iopub.status.idle": "2024-08-12T13:25:31.047211Z",
     "shell.execute_reply": "2024-08-12T13:25:31.045665Z"
    },
    "papermill": {
     "duration": 0.039413,
     "end_time": "2024-08-12T13:25:31.049789",
     "exception": false,
     "start_time": "2024-08-12T13:25:31.010376",
     "status": "completed"
    },
    "tags": []
   },
   "outputs": [
    {
     "name": "stdout",
     "output_type": "stream",
     "text": [
      " * sqlite:///supply_chain_db\n",
      "Done.\n"
     ]
    },
    {
     "data": {
      "text/html": [
       "<table>\n",
       "    <thead>\n",
       "        <tr>\n",
       "            <th>avg_shipping_time</th>\n",
       "        </tr>\n",
       "    </thead>\n",
       "    <tbody>\n",
       "        <tr>\n",
       "            <td>5.12</td>\n",
       "        </tr>\n",
       "    </tbody>\n",
       "</table>"
      ],
      "text/plain": [
       "[(5.12,)]"
      ]
     },
     "execution_count": 26,
     "metadata": {},
     "output_type": "execute_result"
    }
   ],
   "source": [
    "%%sql\n",
    "SELECT\n",
    "  ROUND(AVG(shipping_times),2) AS avg_shipping_time\n",
    "FROM chain\n",
    "WHERE transportation_modes = 'Air';"
   ]
  },
  {
   "cell_type": "markdown",
   "id": "fdf59c98",
   "metadata": {
    "papermill": {
     "duration": 0.02816,
     "end_time": "2024-08-12T13:25:31.103534",
     "exception": false,
     "start_time": "2024-08-12T13:25:31.075374",
     "status": "completed"
    },
    "tags": []
   },
   "source": [
    "#### <font color=darkcyan>3.2.4.3 Determine the most frequently used transportation mode for products sourced from Mumbai.</font>"
   ]
  },
  {
   "cell_type": "code",
   "execution_count": 27,
   "id": "a5c7dd15",
   "metadata": {
    "execution": {
     "iopub.execute_input": "2024-08-12T13:25:31.167746Z",
     "iopub.status.busy": "2024-08-12T13:25:31.166759Z",
     "iopub.status.idle": "2024-08-12T13:25:31.178350Z",
     "shell.execute_reply": "2024-08-12T13:25:31.177073Z"
    },
    "papermill": {
     "duration": 0.043709,
     "end_time": "2024-08-12T13:25:31.180900",
     "exception": false,
     "start_time": "2024-08-12T13:25:31.137191",
     "status": "completed"
    },
    "tags": []
   },
   "outputs": [
    {
     "name": "stdout",
     "output_type": "stream",
     "text": [
      " * sqlite:///supply_chain_db\n",
      "Done.\n"
     ]
    },
    {
     "data": {
      "text/html": [
       "<table>\n",
       "    <thead>\n",
       "        <tr>\n",
       "            <th>transportation_modes</th>\n",
       "            <th>mode_count</th>\n",
       "        </tr>\n",
       "    </thead>\n",
       "    <tbody>\n",
       "        <tr>\n",
       "            <td>Air</td>\n",
       "            <td>7</td>\n",
       "        </tr>\n",
       "    </tbody>\n",
       "</table>"
      ],
      "text/plain": [
       "[('Air', 7)]"
      ]
     },
     "execution_count": 27,
     "metadata": {},
     "output_type": "execute_result"
    }
   ],
   "source": [
    "%%sql\n",
    "SELECT\n",
    "  transportation_modes,\n",
    "  COUNT(*) AS mode_count\n",
    "FROM chain\n",
    "WHERE location = 'Mumbai'\n",
    "GROUP BY 1\n",
    "ORDER BY 2 DESC\n",
    "LIMIT 1;"
   ]
  },
  {
   "cell_type": "markdown",
   "id": "69a319c4",
   "metadata": {
    "papermill": {
     "duration": 0.024788,
     "end_time": "2024-08-12T13:25:31.231293",
     "exception": false,
     "start_time": "2024-08-12T13:25:31.206505",
     "status": "completed"
    },
    "tags": []
   },
   "source": [
    "#### <font color=darkcyan>3.2.4.4 Identify the top 3 suppliers with the highest average shipping costs.</font>"
   ]
  },
  {
   "cell_type": "code",
   "execution_count": 28,
   "id": "5ab535eb",
   "metadata": {
    "execution": {
     "iopub.execute_input": "2024-08-12T13:25:31.300924Z",
     "iopub.status.busy": "2024-08-12T13:25:31.300490Z",
     "iopub.status.idle": "2024-08-12T13:25:31.314405Z",
     "shell.execute_reply": "2024-08-12T13:25:31.313045Z"
    },
    "papermill": {
     "duration": 0.056875,
     "end_time": "2024-08-12T13:25:31.318379",
     "exception": false,
     "start_time": "2024-08-12T13:25:31.261504",
     "status": "completed"
    },
    "tags": []
   },
   "outputs": [
    {
     "name": "stdout",
     "output_type": "stream",
     "text": [
      " * sqlite:///supply_chain_db\n",
      "Done.\n"
     ]
    },
    {
     "data": {
      "text/html": [
       "<table>\n",
       "    <thead>\n",
       "        <tr>\n",
       "            <th>supplier_name</th>\n",
       "            <th>avg_shipping_costs</th>\n",
       "        </tr>\n",
       "    </thead>\n",
       "    <tbody>\n",
       "        <tr>\n",
       "            <td>Supplier 5</td>\n",
       "            <td>5.79</td>\n",
       "        </tr>\n",
       "        <tr>\n",
       "            <td>Supplier 4</td>\n",
       "            <td>5.76</td>\n",
       "        </tr>\n",
       "        <tr>\n",
       "            <td>Supplier 2</td>\n",
       "            <td>5.74</td>\n",
       "        </tr>\n",
       "    </tbody>\n",
       "</table>"
      ],
      "text/plain": [
       "[('Supplier 5', 5.79), ('Supplier 4', 5.76), ('Supplier 2', 5.74)]"
      ]
     },
     "execution_count": 28,
     "metadata": {},
     "output_type": "execute_result"
    }
   ],
   "source": [
    "%%sql\n",
    "SELECT\n",
    "  supplier_name,\n",
    "  ROUND(AVG(shipping_costs),2) AS avg_shipping_costs\n",
    "FROM chain\n",
    "GROUP BY 1\n",
    "ORDER BY 2 DESC\n",
    "LIMIT 3;"
   ]
  },
  {
   "cell_type": "markdown",
   "id": "e9ff3f8c",
   "metadata": {
    "papermill": {
     "duration": 0.035893,
     "end_time": "2024-08-12T13:25:31.394672",
     "exception": false,
     "start_time": "2024-08-12T13:25:31.358779",
     "status": "completed"
    },
    "tags": []
   },
   "source": [
    "#### <font color=darkcyan>3.2.4.5 Find the shipping routes with average shippingcosts exceeding the average shipping cost for all the routes.</font>"
   ]
  },
  {
   "cell_type": "code",
   "execution_count": 29,
   "id": "b9754156",
   "metadata": {
    "execution": {
     "iopub.execute_input": "2024-08-12T13:25:31.447625Z",
     "iopub.status.busy": "2024-08-12T13:25:31.447104Z",
     "iopub.status.idle": "2024-08-12T13:25:31.461715Z",
     "shell.execute_reply": "2024-08-12T13:25:31.459869Z"
    },
    "papermill": {
     "duration": 0.044804,
     "end_time": "2024-08-12T13:25:31.465012",
     "exception": false,
     "start_time": "2024-08-12T13:25:31.420208",
     "status": "completed"
    },
    "tags": []
   },
   "outputs": [
    {
     "name": "stdout",
     "output_type": "stream",
     "text": [
      " * sqlite:///supply_chain_db\n",
      "Done.\n"
     ]
    },
    {
     "data": {
      "text/html": [
       "<table>\n",
       "    <thead>\n",
       "        <tr>\n",
       "            <th>routes</th>\n",
       "            <th>avg_shipping_cost</th>\n",
       "        </tr>\n",
       "    </thead>\n",
       "    <tbody>\n",
       "        <tr>\n",
       "            <td>Route C</td>\n",
       "            <td>5.9</td>\n",
       "        </tr>\n",
       "    </tbody>\n",
       "</table>"
      ],
      "text/plain": [
       "[('Route C', 5.9)]"
      ]
     },
     "execution_count": 29,
     "metadata": {},
     "output_type": "execute_result"
    }
   ],
   "source": [
    "%%sql\n",
    "SELECT\n",
    "  routes,\n",
    "  ROUND(AVG(shipping_costs),2) AS avg_shipping_cost\n",
    "FROM chain\n",
    "GROUP BY 1\n",
    "HAVING ROUND(AVG(shipping_costs),2) > (SELECT ROUND(AVG(shipping_costs),2) FROM chain)"
   ]
  },
  {
   "cell_type": "markdown",
   "id": "e3fc074d",
   "metadata": {
    "papermill": {
     "duration": 0.026108,
     "end_time": "2024-08-12T13:25:31.521841",
     "exception": false,
     "start_time": "2024-08-12T13:25:31.495733",
     "status": "completed"
    },
    "tags": []
   },
   "source": [
    "#### <font color=darkcyan>3.2.4.6 Find the top carriers per location based on shipment volume.</font>"
   ]
  },
  {
   "cell_type": "code",
   "execution_count": 30,
   "id": "a0c7140a",
   "metadata": {
    "execution": {
     "iopub.execute_input": "2024-08-12T13:25:31.581827Z",
     "iopub.status.busy": "2024-08-12T13:25:31.580617Z",
     "iopub.status.idle": "2024-08-12T13:25:31.594957Z",
     "shell.execute_reply": "2024-08-12T13:25:31.593469Z"
    },
    "papermill": {
     "duration": 0.046815,
     "end_time": "2024-08-12T13:25:31.598013",
     "exception": false,
     "start_time": "2024-08-12T13:25:31.551198",
     "status": "completed"
    },
    "tags": []
   },
   "outputs": [
    {
     "name": "stdout",
     "output_type": "stream",
     "text": [
      " * sqlite:///supply_chain_db\n",
      "Done.\n"
     ]
    },
    {
     "data": {
      "text/html": [
       "<table>\n",
       "    <thead>\n",
       "        <tr>\n",
       "            <th>location</th>\n",
       "            <th>shipping_carriers</th>\n",
       "            <th>shipment_volume</th>\n",
       "        </tr>\n",
       "    </thead>\n",
       "    <tbody>\n",
       "        <tr>\n",
       "            <td>Bangalore</td>\n",
       "            <td>Carrier B</td>\n",
       "            <td>10</td>\n",
       "        </tr>\n",
       "        <tr>\n",
       "            <td>Chennai</td>\n",
       "            <td>Carrier B</td>\n",
       "            <td>8</td>\n",
       "        </tr>\n",
       "        <tr>\n",
       "            <td>Delhi</td>\n",
       "            <td>Carrier B</td>\n",
       "            <td>6</td>\n",
       "        </tr>\n",
       "        <tr>\n",
       "            <td>Kolkata</td>\n",
       "            <td>Carrier C</td>\n",
       "            <td>9</td>\n",
       "        </tr>\n",
       "        <tr>\n",
       "            <td>Kolkata</td>\n",
       "            <td>Carrier B</td>\n",
       "            <td>9</td>\n",
       "        </tr>\n",
       "        <tr>\n",
       "            <td>Mumbai</td>\n",
       "            <td>Carrier B</td>\n",
       "            <td>10</td>\n",
       "        </tr>\n",
       "    </tbody>\n",
       "</table>"
      ],
      "text/plain": [
       "[('Bangalore', 'Carrier B', 10),\n",
       " ('Chennai', 'Carrier B', 8),\n",
       " ('Delhi', 'Carrier B', 6),\n",
       " ('Kolkata', 'Carrier C', 9),\n",
       " ('Kolkata', 'Carrier B', 9),\n",
       " ('Mumbai', 'Carrier B', 10)]"
      ]
     },
     "execution_count": 30,
     "metadata": {},
     "output_type": "execute_result"
    }
   ],
   "source": [
    "%%sql\n",
    "WITH LocationCarriers AS(\n",
    "SELECT\n",
    "  location,\n",
    "  shipping_carriers,\n",
    "  COUNT(shipping_carriers) AS shipment_volume,\n",
    "  RANK()OVER(\n",
    "    PARTITION BY location\n",
    "    ORDER BY COUNT(shipping_carriers) DESC\n",
    "  )AS rnk\n",
    "FROM chain\n",
    "GROUP BY 1, 2\n",
    ")\n",
    "\n",
    "SELECT\n",
    "  location,\n",
    "  shipping_carriers,\n",
    "  shipment_volume\n",
    "FROM LocationCarriers\n",
    "WHERE rnk = 1;"
   ]
  },
  {
   "cell_type": "markdown",
   "id": "0af4a969",
   "metadata": {
    "papermill": {
     "duration": 0.026768,
     "end_time": "2024-08-12T13:25:31.653198",
     "exception": false,
     "start_time": "2024-08-12T13:25:31.626430",
     "status": "completed"
    },
    "tags": []
   },
   "source": [
    "#### <font color=darkcyan>3.2.4.7 Classify shipping carriers into performance categories (e.g., good, average, poor) by comparing their average shipping time to the overall average shipping time and calculate the total shipping cost for each carrier.</font>"
   ]
  },
  {
   "cell_type": "code",
   "execution_count": 31,
   "id": "dd5d0de5",
   "metadata": {
    "execution": {
     "iopub.execute_input": "2024-08-12T13:25:31.707662Z",
     "iopub.status.busy": "2024-08-12T13:25:31.707292Z",
     "iopub.status.idle": "2024-08-12T13:25:31.722590Z",
     "shell.execute_reply": "2024-08-12T13:25:31.721243Z"
    },
    "papermill": {
     "duration": 0.046123,
     "end_time": "2024-08-12T13:25:31.725406",
     "exception": false,
     "start_time": "2024-08-12T13:25:31.679283",
     "status": "completed"
    },
    "tags": []
   },
   "outputs": [
    {
     "name": "stdout",
     "output_type": "stream",
     "text": [
      " * sqlite:///supply_chain_db\n",
      "Done.\n"
     ]
    },
    {
     "data": {
      "text/html": [
       "<table>\n",
       "    <thead>\n",
       "        <tr>\n",
       "            <th>shipping_carriers</th>\n",
       "            <th>carrier_performance</th>\n",
       "            <th>shipping_costs</th>\n",
       "        </tr>\n",
       "    </thead>\n",
       "    <tbody>\n",
       "        <tr>\n",
       "            <td>Carrier A</td>\n",
       "            <td>Good</td>\n",
       "            <td>156.0</td>\n",
       "        </tr>\n",
       "        <tr>\n",
       "            <td>Carrier B</td>\n",
       "            <td>Poor</td>\n",
       "            <td>237.0</td>\n",
       "        </tr>\n",
       "        <tr>\n",
       "            <td>Carrier C</td>\n",
       "            <td>Good</td>\n",
       "            <td>162.0</td>\n",
       "        </tr>\n",
       "    </tbody>\n",
       "</table>"
      ],
      "text/plain": [
       "[('Carrier A', 'Good', 156.0),\n",
       " ('Carrier B', 'Poor', 237.0),\n",
       " ('Carrier C', 'Good', 162.0)]"
      ]
     },
     "execution_count": 31,
     "metadata": {},
     "output_type": "execute_result"
    }
   ],
   "source": [
    "%%sql\n",
    "WITH AvgShippingTime AS (\n",
    "  SELECT\n",
    "    ROUND(AVG(shipping_times),2) AS avg_shipping_time\n",
    "  FROM chain\n",
    "),\n",
    "\n",
    "CarrierPerformanceAndCosts AS (\n",
    "  SELECT\n",
    "    c.shipping_carriers,\n",
    "    CASE\n",
    "      WHEN AVG(shipping_times) < a.avg_shipping_time THEN 'Poor'\n",
    "      WHEN AVG(shipping_times) > a.avg_shipping_time THEN 'Good'\n",
    "      ELSE 'Average'\n",
    "    END AS carrier_performance,\n",
    "    ROUND(SUM(shipping_costs)) AS shipping_costs\n",
    "  FROM chain AS c\n",
    "  CROSS JOIN AvgShippingTime AS a\n",
    "  GROUP BY 1\n",
    ")\n",
    "\n",
    "SELECT *\n",
    "FROM CarrierPerformanceAndCosts;"
   ]
  }
 ],
 "metadata": {
  "kaggle": {
   "accelerator": "none",
   "dataSources": [
    {
     "datasetId": 3348682,
     "sourceId": 5826483,
     "sourceType": "datasetVersion"
    }
   ],
   "dockerImageVersionId": 30746,
   "isGpuEnabled": false,
   "isInternetEnabled": true,
   "language": "python",
   "sourceType": "notebook"
  },
  "kernelspec": {
   "display_name": "Python 3",
   "language": "python",
   "name": "python3"
  },
  "language_info": {
   "codemirror_mode": {
    "name": "ipython",
    "version": 3
   },
   "file_extension": ".py",
   "mimetype": "text/x-python",
   "name": "python",
   "nbconvert_exporter": "python",
   "pygments_lexer": "ipython3",
   "version": "3.10.13"
  },
  "papermill": {
   "default_parameters": {},
   "duration": 9.639809,
   "end_time": "2024-08-12T13:25:32.375111",
   "environment_variables": {},
   "exception": null,
   "input_path": "__notebook__.ipynb",
   "output_path": "__notebook__.ipynb",
   "parameters": {},
   "start_time": "2024-08-12T13:25:22.735302",
   "version": "2.5.0"
  }
 },
 "nbformat": 4,
 "nbformat_minor": 5
}
